{
 "cells": [
  {
   "cell_type": "markdown",
   "metadata": {},
   "source": [
    "## References\n",
    "\n",
    "Inspired From:\n",
    "**Sophia Young** and **Lance Martin**. _\"Advance RAG Control Flow with Mistral and LangChain: Corrective RAG, Self-RAG, Adaptive RAG.\"_\n"
   ]
  },
  {
   "cell_type": "markdown",
   "metadata": {},
   "source": [
    "# Installing Required Packages\n"
   ]
  },
  {
   "cell_type": "code",
   "execution_count": 1,
   "metadata": {},
   "outputs": [
    {
     "name": "stdout",
     "output_type": "stream",
     "text": [
      "Requirement already satisfied: langchain in c:\\users\\agadi\\documents\\a\\pythonprojects\\cricket-bot\\.venv\\lib\\site-packages (0.2.10)\n",
      "Requirement already satisfied: langchain-community in c:\\users\\agadi\\documents\\a\\pythonprojects\\cricket-bot\\.venv\\lib\\site-packages (0.2.9)\n",
      "Requirement already satisfied: langchain-huggingface in c:\\users\\agadi\\documents\\a\\pythonprojects\\cricket-bot\\.venv\\lib\\site-packages (0.0.3)\n",
      "Requirement already satisfied: langgraph in c:\\users\\agadi\\documents\\a\\pythonprojects\\cricket-bot\\.venv\\lib\\site-packages (0.1.9)\n",
      "Requirement already satisfied: langchain_experimental in c:\\users\\agadi\\documents\\a\\pythonprojects\\cricket-bot\\.venv\\lib\\site-packages (0.0.62)\n",
      "Requirement already satisfied: pymupdf in c:\\users\\agadi\\documents\\a\\pythonprojects\\cricket-bot\\.venv\\lib\\site-packages (1.24.7)\n",
      "Requirement already satisfied: tiktoken in c:\\users\\agadi\\documents\\a\\pythonprojects\\cricket-bot\\.venv\\lib\\site-packages (0.7.0)\n",
      "Requirement already satisfied: sentence_transformers in c:\\users\\agadi\\documents\\a\\pythonprojects\\cricket-bot\\.venv\\lib\\site-packages (3.0.1)\n",
      "Requirement already satisfied: chromadb in c:\\users\\agadi\\documents\\a\\pythonprojects\\cricket-bot\\.venv\\lib\\site-packages (0.5.4)\n",
      "Requirement already satisfied: duckduckgo-search in c:\\users\\agadi\\documents\\a\\pythonprojects\\cricket-bot\\.venv\\lib\\site-packages (6.2.1)\n",
      "Requirement already satisfied: PyYAML>=5.3 in c:\\users\\agadi\\documents\\a\\pythonprojects\\cricket-bot\\.venv\\lib\\site-packages (from langchain) (6.0.1)\n",
      "Requirement already satisfied: SQLAlchemy<3,>=1.4 in c:\\users\\agadi\\documents\\a\\pythonprojects\\cricket-bot\\.venv\\lib\\site-packages (from langchain) (2.0.31)\n",
      "Requirement already satisfied: aiohttp<4.0.0,>=3.8.3 in c:\\users\\agadi\\documents\\a\\pythonprojects\\cricket-bot\\.venv\\lib\\site-packages (from langchain) (3.9.5)\n",
      "Requirement already satisfied: langchain-core<0.3.0,>=0.2.22 in c:\\users\\agadi\\documents\\a\\pythonprojects\\cricket-bot\\.venv\\lib\\site-packages (from langchain) (0.2.22)\n",
      "Requirement already satisfied: langchain-text-splitters<0.3.0,>=0.2.0 in c:\\users\\agadi\\documents\\a\\pythonprojects\\cricket-bot\\.venv\\lib\\site-packages (from langchain) (0.2.2)\n",
      "Requirement already satisfied: langsmith<0.2.0,>=0.1.17 in c:\\users\\agadi\\documents\\a\\pythonprojects\\cricket-bot\\.venv\\lib\\site-packages (from langchain) (0.1.93)\n",
      "Requirement already satisfied: numpy<2,>=1 in c:\\users\\agadi\\documents\\a\\pythonprojects\\cricket-bot\\.venv\\lib\\site-packages (from langchain) (1.26.4)\n",
      "Requirement already satisfied: pydantic<3,>=1 in c:\\users\\agadi\\documents\\a\\pythonprojects\\cricket-bot\\.venv\\lib\\site-packages (from langchain) (2.8.2)\n",
      "Requirement already satisfied: requests<3,>=2 in c:\\users\\agadi\\documents\\a\\pythonprojects\\cricket-bot\\.venv\\lib\\site-packages (from langchain) (2.32.3)\n",
      "Requirement already satisfied: tenacity!=8.4.0,<9.0.0,>=8.1.0 in c:\\users\\agadi\\documents\\a\\pythonprojects\\cricket-bot\\.venv\\lib\\site-packages (from langchain) (8.5.0)\n",
      "Requirement already satisfied: dataclasses-json<0.7,>=0.5.7 in c:\\users\\agadi\\documents\\a\\pythonprojects\\cricket-bot\\.venv\\lib\\site-packages (from langchain-community) (0.6.7)\n",
      "Requirement already satisfied: huggingface-hub>=0.23.0 in c:\\users\\agadi\\documents\\a\\pythonprojects\\cricket-bot\\.venv\\lib\\site-packages (from langchain-huggingface) (0.24.0)\n",
      "Requirement already satisfied: tokenizers>=0.19.1 in c:\\users\\agadi\\documents\\a\\pythonprojects\\cricket-bot\\.venv\\lib\\site-packages (from langchain-huggingface) (0.19.1)\n",
      "Requirement already satisfied: transformers>=4.39.0 in c:\\users\\agadi\\documents\\a\\pythonprojects\\cricket-bot\\.venv\\lib\\site-packages (from langchain-huggingface) (4.42.4)\n",
      "Requirement already satisfied: PyMuPDFb==1.24.6 in c:\\users\\agadi\\documents\\a\\pythonprojects\\cricket-bot\\.venv\\lib\\site-packages (from pymupdf) (1.24.6)\n",
      "Requirement already satisfied: regex>=2022.1.18 in c:\\users\\agadi\\documents\\a\\pythonprojects\\cricket-bot\\.venv\\lib\\site-packages (from tiktoken) (2024.5.15)\n",
      "Requirement already satisfied: tqdm in c:\\users\\agadi\\documents\\a\\pythonprojects\\cricket-bot\\.venv\\lib\\site-packages (from sentence_transformers) (4.66.4)\n",
      "Requirement already satisfied: torch>=1.11.0 in c:\\users\\agadi\\documents\\a\\pythonprojects\\cricket-bot\\.venv\\lib\\site-packages (from sentence_transformers) (2.3.1)\n",
      "Requirement already satisfied: scikit-learn in c:\\users\\agadi\\documents\\a\\pythonprojects\\cricket-bot\\.venv\\lib\\site-packages (from sentence_transformers) (1.5.1)\n",
      "Requirement already satisfied: scipy in c:\\users\\agadi\\documents\\a\\pythonprojects\\cricket-bot\\.venv\\lib\\site-packages (from sentence_transformers) (1.14.0)\n",
      "Requirement already satisfied: Pillow in c:\\users\\agadi\\documents\\a\\pythonprojects\\cricket-bot\\.venv\\lib\\site-packages (from sentence_transformers) (10.4.0)\n",
      "Requirement already satisfied: build>=1.0.3 in c:\\users\\agadi\\documents\\a\\pythonprojects\\cricket-bot\\.venv\\lib\\site-packages (from chromadb) (1.2.1)\n",
      "Requirement already satisfied: chroma-hnswlib==0.7.5 in c:\\users\\agadi\\documents\\a\\pythonprojects\\cricket-bot\\.venv\\lib\\site-packages (from chromadb) (0.7.5)\n",
      "Requirement already satisfied: fastapi>=0.95.2 in c:\\users\\agadi\\documents\\a\\pythonprojects\\cricket-bot\\.venv\\lib\\site-packages (from chromadb) (0.111.1)\n",
      "Requirement already satisfied: uvicorn>=0.18.3 in c:\\users\\agadi\\documents\\a\\pythonprojects\\cricket-bot\\.venv\\lib\\site-packages (from uvicorn[standard]>=0.18.3->chromadb) (0.30.3)\n",
      "Requirement already satisfied: posthog>=2.4.0 in c:\\users\\agadi\\documents\\a\\pythonprojects\\cricket-bot\\.venv\\lib\\site-packages (from chromadb) (3.5.0)\n",
      "Requirement already satisfied: typing-extensions>=4.5.0 in c:\\users\\agadi\\documents\\a\\pythonprojects\\cricket-bot\\.venv\\lib\\site-packages (from chromadb) (4.12.2)\n",
      "Requirement already satisfied: onnxruntime>=1.14.1 in c:\\users\\agadi\\documents\\a\\pythonprojects\\cricket-bot\\.venv\\lib\\site-packages (from chromadb) (1.18.1)\n",
      "Requirement already satisfied: opentelemetry-api>=1.2.0 in c:\\users\\agadi\\documents\\a\\pythonprojects\\cricket-bot\\.venv\\lib\\site-packages (from chromadb) (1.25.0)\n",
      "Requirement already satisfied: opentelemetry-exporter-otlp-proto-grpc>=1.2.0 in c:\\users\\agadi\\documents\\a\\pythonprojects\\cricket-bot\\.venv\\lib\\site-packages (from chromadb) (1.25.0)\n",
      "Requirement already satisfied: opentelemetry-instrumentation-fastapi>=0.41b0 in c:\\users\\agadi\\documents\\a\\pythonprojects\\cricket-bot\\.venv\\lib\\site-packages (from chromadb) (0.46b0)\n",
      "Requirement already satisfied: opentelemetry-sdk>=1.2.0 in c:\\users\\agadi\\documents\\a\\pythonprojects\\cricket-bot\\.venv\\lib\\site-packages (from chromadb) (1.25.0)\n",
      "Requirement already satisfied: pypika>=0.48.9 in c:\\users\\agadi\\documents\\a\\pythonprojects\\cricket-bot\\.venv\\lib\\site-packages (from chromadb) (0.48.9)\n",
      "Requirement already satisfied: overrides>=7.3.1 in c:\\users\\agadi\\documents\\a\\pythonprojects\\cricket-bot\\.venv\\lib\\site-packages (from chromadb) (7.7.0)\n",
      "Requirement already satisfied: importlib-resources in c:\\users\\agadi\\documents\\a\\pythonprojects\\cricket-bot\\.venv\\lib\\site-packages (from chromadb) (6.4.0)\n",
      "Requirement already satisfied: grpcio>=1.58.0 in c:\\users\\agadi\\documents\\a\\pythonprojects\\cricket-bot\\.venv\\lib\\site-packages (from chromadb) (1.65.1)\n",
      "Requirement already satisfied: bcrypt>=4.0.1 in c:\\users\\agadi\\documents\\a\\pythonprojects\\cricket-bot\\.venv\\lib\\site-packages (from chromadb) (4.1.3)\n",
      "Requirement already satisfied: typer>=0.9.0 in c:\\users\\agadi\\documents\\a\\pythonprojects\\cricket-bot\\.venv\\lib\\site-packages (from chromadb) (0.12.3)\n",
      "Requirement already satisfied: kubernetes>=28.1.0 in c:\\users\\agadi\\documents\\a\\pythonprojects\\cricket-bot\\.venv\\lib\\site-packages (from chromadb) (30.1.0)\n",
      "Requirement already satisfied: mmh3>=4.0.1 in c:\\users\\agadi\\documents\\a\\pythonprojects\\cricket-bot\\.venv\\lib\\site-packages (from chromadb) (4.1.0)\n",
      "Requirement already satisfied: orjson>=3.9.12 in c:\\users\\agadi\\documents\\a\\pythonprojects\\cricket-bot\\.venv\\lib\\site-packages (from chromadb) (3.10.6)\n",
      "Requirement already satisfied: httpx>=0.27.0 in c:\\users\\agadi\\documents\\a\\pythonprojects\\cricket-bot\\.venv\\lib\\site-packages (from chromadb) (0.27.0)\n",
      "Requirement already satisfied: click>=8.1.7 in c:\\users\\agadi\\documents\\a\\pythonprojects\\cricket-bot\\.venv\\lib\\site-packages (from duckduckgo-search) (8.1.7)\n",
      "Requirement already satisfied: pyreqwest-impersonate>=0.5.0 in c:\\users\\agadi\\documents\\a\\pythonprojects\\cricket-bot\\.venv\\lib\\site-packages (from duckduckgo-search) (0.5.1)\n",
      "Requirement already satisfied: aiosignal>=1.1.2 in c:\\users\\agadi\\documents\\a\\pythonprojects\\cricket-bot\\.venv\\lib\\site-packages (from aiohttp<4.0.0,>=3.8.3->langchain) (1.3.1)\n",
      "Requirement already satisfied: attrs>=17.3.0 in c:\\users\\agadi\\documents\\a\\pythonprojects\\cricket-bot\\.venv\\lib\\site-packages (from aiohttp<4.0.0,>=3.8.3->langchain) (23.2.0)\n",
      "Requirement already satisfied: frozenlist>=1.1.1 in c:\\users\\agadi\\documents\\a\\pythonprojects\\cricket-bot\\.venv\\lib\\site-packages (from aiohttp<4.0.0,>=3.8.3->langchain) (1.4.1)\n",
      "Requirement already satisfied: multidict<7.0,>=4.5 in c:\\users\\agadi\\documents\\a\\pythonprojects\\cricket-bot\\.venv\\lib\\site-packages (from aiohttp<4.0.0,>=3.8.3->langchain) (6.0.5)\n",
      "Requirement already satisfied: yarl<2.0,>=1.0 in c:\\users\\agadi\\documents\\a\\pythonprojects\\cricket-bot\\.venv\\lib\\site-packages (from aiohttp<4.0.0,>=3.8.3->langchain) (1.9.4)\n",
      "Requirement already satisfied: packaging>=19.1 in c:\\users\\agadi\\documents\\a\\pythonprojects\\cricket-bot\\.venv\\lib\\site-packages (from build>=1.0.3->chromadb) (24.1)\n",
      "Requirement already satisfied: pyproject_hooks in c:\\users\\agadi\\documents\\a\\pythonprojects\\cricket-bot\\.venv\\lib\\site-packages (from build>=1.0.3->chromadb) (1.1.0)\n",
      "Requirement already satisfied: colorama in c:\\users\\agadi\\documents\\a\\pythonprojects\\cricket-bot\\.venv\\lib\\site-packages (from build>=1.0.3->chromadb) (0.4.6)\n",
      "Requirement already satisfied: marshmallow<4.0.0,>=3.18.0 in c:\\users\\agadi\\documents\\a\\pythonprojects\\cricket-bot\\.venv\\lib\\site-packages (from dataclasses-json<0.7,>=0.5.7->langchain-community) (3.21.3)\n",
      "Requirement already satisfied: typing-inspect<1,>=0.4.0 in c:\\users\\agadi\\documents\\a\\pythonprojects\\cricket-bot\\.venv\\lib\\site-packages (from dataclasses-json<0.7,>=0.5.7->langchain-community) (0.9.0)\n",
      "Requirement already satisfied: starlette<0.38.0,>=0.37.2 in c:\\users\\agadi\\documents\\a\\pythonprojects\\cricket-bot\\.venv\\lib\\site-packages (from fastapi>=0.95.2->chromadb) (0.37.2)\n",
      "Requirement already satisfied: fastapi-cli>=0.0.2 in c:\\users\\agadi\\documents\\a\\pythonprojects\\cricket-bot\\.venv\\lib\\site-packages (from fastapi>=0.95.2->chromadb) (0.0.4)\n",
      "Requirement already satisfied: jinja2>=2.11.2 in c:\\users\\agadi\\documents\\a\\pythonprojects\\cricket-bot\\.venv\\lib\\site-packages (from fastapi>=0.95.2->chromadb) (3.1.4)\n",
      "Requirement already satisfied: python-multipart>=0.0.7 in c:\\users\\agadi\\documents\\a\\pythonprojects\\cricket-bot\\.venv\\lib\\site-packages (from fastapi>=0.95.2->chromadb) (0.0.9)\n",
      "Requirement already satisfied: email_validator>=2.0.0 in c:\\users\\agadi\\documents\\a\\pythonprojects\\cricket-bot\\.venv\\lib\\site-packages (from fastapi>=0.95.2->chromadb) (2.2.0)\n",
      "Requirement already satisfied: anyio in c:\\users\\agadi\\documents\\a\\pythonprojects\\cricket-bot\\.venv\\lib\\site-packages (from httpx>=0.27.0->chromadb) (4.4.0)\n",
      "Requirement already satisfied: certifi in c:\\users\\agadi\\documents\\a\\pythonprojects\\cricket-bot\\.venv\\lib\\site-packages (from httpx>=0.27.0->chromadb) (2024.7.4)\n",
      "Requirement already satisfied: httpcore==1.* in c:\\users\\agadi\\documents\\a\\pythonprojects\\cricket-bot\\.venv\\lib\\site-packages (from httpx>=0.27.0->chromadb) (1.0.5)\n",
      "Requirement already satisfied: idna in c:\\users\\agadi\\documents\\a\\pythonprojects\\cricket-bot\\.venv\\lib\\site-packages (from httpx>=0.27.0->chromadb) (3.7)\n",
      "Requirement already satisfied: sniffio in c:\\users\\agadi\\documents\\a\\pythonprojects\\cricket-bot\\.venv\\lib\\site-packages (from httpx>=0.27.0->chromadb) (1.3.1)\n",
      "Requirement already satisfied: h11<0.15,>=0.13 in c:\\users\\agadi\\documents\\a\\pythonprojects\\cricket-bot\\.venv\\lib\\site-packages (from httpcore==1.*->httpx>=0.27.0->chromadb) (0.14.0)\n",
      "Requirement already satisfied: filelock in c:\\users\\agadi\\documents\\a\\pythonprojects\\cricket-bot\\.venv\\lib\\site-packages (from huggingface-hub>=0.23.0->langchain-huggingface) (3.15.4)\n",
      "Requirement already satisfied: fsspec>=2023.5.0 in c:\\users\\agadi\\documents\\a\\pythonprojects\\cricket-bot\\.venv\\lib\\site-packages (from huggingface-hub>=0.23.0->langchain-huggingface) (2024.6.1)\n",
      "Requirement already satisfied: six>=1.9.0 in c:\\users\\agadi\\documents\\a\\pythonprojects\\cricket-bot\\.venv\\lib\\site-packages (from kubernetes>=28.1.0->chromadb) (1.16.0)\n",
      "Requirement already satisfied: python-dateutil>=2.5.3 in c:\\users\\agadi\\documents\\a\\pythonprojects\\cricket-bot\\.venv\\lib\\site-packages (from kubernetes>=28.1.0->chromadb) (2.9.0.post0)\n",
      "Requirement already satisfied: google-auth>=1.0.1 in c:\\users\\agadi\\documents\\a\\pythonprojects\\cricket-bot\\.venv\\lib\\site-packages (from kubernetes>=28.1.0->chromadb) (2.32.0)\n",
      "Requirement already satisfied: websocket-client!=0.40.0,!=0.41.*,!=0.42.*,>=0.32.0 in c:\\users\\agadi\\documents\\a\\pythonprojects\\cricket-bot\\.venv\\lib\\site-packages (from kubernetes>=28.1.0->chromadb) (1.8.0)\n",
      "Requirement already satisfied: requests-oauthlib in c:\\users\\agadi\\documents\\a\\pythonprojects\\cricket-bot\\.venv\\lib\\site-packages (from kubernetes>=28.1.0->chromadb) (2.0.0)\n",
      "Requirement already satisfied: oauthlib>=3.2.2 in c:\\users\\agadi\\documents\\a\\pythonprojects\\cricket-bot\\.venv\\lib\\site-packages (from kubernetes>=28.1.0->chromadb) (3.2.2)\n",
      "Requirement already satisfied: urllib3>=1.24.2 in c:\\users\\agadi\\documents\\a\\pythonprojects\\cricket-bot\\.venv\\lib\\site-packages (from kubernetes>=28.1.0->chromadb) (2.2.2)\n",
      "Requirement already satisfied: jsonpatch<2.0,>=1.33 in c:\\users\\agadi\\documents\\a\\pythonprojects\\cricket-bot\\.venv\\lib\\site-packages (from langchain-core<0.3.0,>=0.2.22->langchain) (1.33)\n",
      "Requirement already satisfied: coloredlogs in c:\\users\\agadi\\documents\\a\\pythonprojects\\cricket-bot\\.venv\\lib\\site-packages (from onnxruntime>=1.14.1->chromadb) (15.0.1)\n",
      "Requirement already satisfied: flatbuffers in c:\\users\\agadi\\documents\\a\\pythonprojects\\cricket-bot\\.venv\\lib\\site-packages (from onnxruntime>=1.14.1->chromadb) (24.3.25)\n",
      "Requirement already satisfied: protobuf in c:\\users\\agadi\\documents\\a\\pythonprojects\\cricket-bot\\.venv\\lib\\site-packages (from onnxruntime>=1.14.1->chromadb) (4.25.3)\n",
      "Requirement already satisfied: sympy in c:\\users\\agadi\\documents\\a\\pythonprojects\\cricket-bot\\.venv\\lib\\site-packages (from onnxruntime>=1.14.1->chromadb) (1.13.1)\n",
      "Requirement already satisfied: deprecated>=1.2.6 in c:\\users\\agadi\\documents\\a\\pythonprojects\\cricket-bot\\.venv\\lib\\site-packages (from opentelemetry-api>=1.2.0->chromadb) (1.2.14)\n",
      "Requirement already satisfied: importlib-metadata<=7.1,>=6.0 in c:\\users\\agadi\\documents\\a\\pythonprojects\\cricket-bot\\.venv\\lib\\site-packages (from opentelemetry-api>=1.2.0->chromadb) (7.1.0)\n",
      "Requirement already satisfied: googleapis-common-protos~=1.52 in c:\\users\\agadi\\documents\\a\\pythonprojects\\cricket-bot\\.venv\\lib\\site-packages (from opentelemetry-exporter-otlp-proto-grpc>=1.2.0->chromadb) (1.63.2)\n",
      "Requirement already satisfied: opentelemetry-exporter-otlp-proto-common==1.25.0 in c:\\users\\agadi\\documents\\a\\pythonprojects\\cricket-bot\\.venv\\lib\\site-packages (from opentelemetry-exporter-otlp-proto-grpc>=1.2.0->chromadb) (1.25.0)\n",
      "Requirement already satisfied: opentelemetry-proto==1.25.0 in c:\\users\\agadi\\documents\\a\\pythonprojects\\cricket-bot\\.venv\\lib\\site-packages (from opentelemetry-exporter-otlp-proto-grpc>=1.2.0->chromadb) (1.25.0)\n",
      "Requirement already satisfied: opentelemetry-instrumentation-asgi==0.46b0 in c:\\users\\agadi\\documents\\a\\pythonprojects\\cricket-bot\\.venv\\lib\\site-packages (from opentelemetry-instrumentation-fastapi>=0.41b0->chromadb) (0.46b0)\n",
      "Requirement already satisfied: opentelemetry-instrumentation==0.46b0 in c:\\users\\agadi\\documents\\a\\pythonprojects\\cricket-bot\\.venv\\lib\\site-packages (from opentelemetry-instrumentation-fastapi>=0.41b0->chromadb) (0.46b0)\n",
      "Requirement already satisfied: opentelemetry-semantic-conventions==0.46b0 in c:\\users\\agadi\\documents\\a\\pythonprojects\\cricket-bot\\.venv\\lib\\site-packages (from opentelemetry-instrumentation-fastapi>=0.41b0->chromadb) (0.46b0)\n",
      "Requirement already satisfied: opentelemetry-util-http==0.46b0 in c:\\users\\agadi\\documents\\a\\pythonprojects\\cricket-bot\\.venv\\lib\\site-packages (from opentelemetry-instrumentation-fastapi>=0.41b0->chromadb) (0.46b0)\n",
      "Requirement already satisfied: setuptools>=16.0 in c:\\users\\agadi\\documents\\a\\pythonprojects\\cricket-bot\\.venv\\lib\\site-packages (from opentelemetry-instrumentation==0.46b0->opentelemetry-instrumentation-fastapi>=0.41b0->chromadb) (65.5.0)\n",
      "Requirement already satisfied: wrapt<2.0.0,>=1.0.0 in c:\\users\\agadi\\documents\\a\\pythonprojects\\cricket-bot\\.venv\\lib\\site-packages (from opentelemetry-instrumentation==0.46b0->opentelemetry-instrumentation-fastapi>=0.41b0->chromadb) (1.16.0)\n",
      "Requirement already satisfied: asgiref~=3.0 in c:\\users\\agadi\\documents\\a\\pythonprojects\\cricket-bot\\.venv\\lib\\site-packages (from opentelemetry-instrumentation-asgi==0.46b0->opentelemetry-instrumentation-fastapi>=0.41b0->chromadb) (3.8.1)\n",
      "Requirement already satisfied: monotonic>=1.5 in c:\\users\\agadi\\documents\\a\\pythonprojects\\cricket-bot\\.venv\\lib\\site-packages (from posthog>=2.4.0->chromadb) (1.6)\n",
      "Requirement already satisfied: backoff>=1.10.0 in c:\\users\\agadi\\documents\\a\\pythonprojects\\cricket-bot\\.venv\\lib\\site-packages (from posthog>=2.4.0->chromadb) (2.2.1)\n",
      "Requirement already satisfied: annotated-types>=0.4.0 in c:\\users\\agadi\\documents\\a\\pythonprojects\\cricket-bot\\.venv\\lib\\site-packages (from pydantic<3,>=1->langchain) (0.7.0)\n",
      "Requirement already satisfied: pydantic-core==2.20.1 in c:\\users\\agadi\\documents\\a\\pythonprojects\\cricket-bot\\.venv\\lib\\site-packages (from pydantic<3,>=1->langchain) (2.20.1)\n",
      "Requirement already satisfied: charset-normalizer<4,>=2 in c:\\users\\agadi\\documents\\a\\pythonprojects\\cricket-bot\\.venv\\lib\\site-packages (from requests<3,>=2->langchain) (3.3.2)\n",
      "Requirement already satisfied: greenlet!=0.4.17 in c:\\users\\agadi\\documents\\a\\pythonprojects\\cricket-bot\\.venv\\lib\\site-packages (from SQLAlchemy<3,>=1.4->langchain) (3.0.3)\n",
      "Requirement already satisfied: networkx in c:\\users\\agadi\\documents\\a\\pythonprojects\\cricket-bot\\.venv\\lib\\site-packages (from torch>=1.11.0->sentence_transformers) (3.3)\n",
      "Requirement already satisfied: mkl<=2021.4.0,>=2021.1.1 in c:\\users\\agadi\\documents\\a\\pythonprojects\\cricket-bot\\.venv\\lib\\site-packages (from torch>=1.11.0->sentence_transformers) (2021.4.0)\n",
      "Requirement already satisfied: safetensors>=0.4.1 in c:\\users\\agadi\\documents\\a\\pythonprojects\\cricket-bot\\.venv\\lib\\site-packages (from transformers>=4.39.0->langchain-huggingface) (0.4.3)\n",
      "Requirement already satisfied: shellingham>=1.3.0 in c:\\users\\agadi\\documents\\a\\pythonprojects\\cricket-bot\\.venv\\lib\\site-packages (from typer>=0.9.0->chromadb) (1.5.4)\n",
      "Requirement already satisfied: rich>=10.11.0 in c:\\users\\agadi\\documents\\a\\pythonprojects\\cricket-bot\\.venv\\lib\\site-packages (from typer>=0.9.0->chromadb) (13.7.1)\n",
      "Requirement already satisfied: httptools>=0.5.0 in c:\\users\\agadi\\documents\\a\\pythonprojects\\cricket-bot\\.venv\\lib\\site-packages (from uvicorn[standard]>=0.18.3->chromadb) (0.6.1)\n",
      "Requirement already satisfied: python-dotenv>=0.13 in c:\\users\\agadi\\documents\\a\\pythonprojects\\cricket-bot\\.venv\\lib\\site-packages (from uvicorn[standard]>=0.18.3->chromadb) (1.0.1)\n",
      "Requirement already satisfied: watchfiles>=0.13 in c:\\users\\agadi\\documents\\a\\pythonprojects\\cricket-bot\\.venv\\lib\\site-packages (from uvicorn[standard]>=0.18.3->chromadb) (0.22.0)\n",
      "Requirement already satisfied: websockets>=10.4 in c:\\users\\agadi\\documents\\a\\pythonprojects\\cricket-bot\\.venv\\lib\\site-packages (from uvicorn[standard]>=0.18.3->chromadb) (12.0)\n",
      "Requirement already satisfied: joblib>=1.2.0 in c:\\users\\agadi\\documents\\a\\pythonprojects\\cricket-bot\\.venv\\lib\\site-packages (from scikit-learn->sentence_transformers) (1.4.2)\n",
      "Requirement already satisfied: threadpoolctl>=3.1.0 in c:\\users\\agadi\\documents\\a\\pythonprojects\\cricket-bot\\.venv\\lib\\site-packages (from scikit-learn->sentence_transformers) (3.5.0)\n",
      "Requirement already satisfied: dnspython>=2.0.0 in c:\\users\\agadi\\documents\\a\\pythonprojects\\cricket-bot\\.venv\\lib\\site-packages (from email_validator>=2.0.0->fastapi>=0.95.2->chromadb) (2.6.1)\n",
      "Requirement already satisfied: cachetools<6.0,>=2.0.0 in c:\\users\\agadi\\documents\\a\\pythonprojects\\cricket-bot\\.venv\\lib\\site-packages (from google-auth>=1.0.1->kubernetes>=28.1.0->chromadb) (5.4.0)\n",
      "Requirement already satisfied: pyasn1-modules>=0.2.1 in c:\\users\\agadi\\documents\\a\\pythonprojects\\cricket-bot\\.venv\\lib\\site-packages (from google-auth>=1.0.1->kubernetes>=28.1.0->chromadb) (0.4.0)\n",
      "Requirement already satisfied: rsa<5,>=3.1.4 in c:\\users\\agadi\\documents\\a\\pythonprojects\\cricket-bot\\.venv\\lib\\site-packages (from google-auth>=1.0.1->kubernetes>=28.1.0->chromadb) (4.9)\n",
      "Requirement already satisfied: zipp>=0.5 in c:\\users\\agadi\\documents\\a\\pythonprojects\\cricket-bot\\.venv\\lib\\site-packages (from importlib-metadata<=7.1,>=6.0->opentelemetry-api>=1.2.0->chromadb) (3.19.2)\n",
      "Requirement already satisfied: MarkupSafe>=2.0 in c:\\users\\agadi\\documents\\a\\pythonprojects\\cricket-bot\\.venv\\lib\\site-packages (from jinja2>=2.11.2->fastapi>=0.95.2->chromadb) (2.1.5)\n",
      "Requirement already satisfied: jsonpointer>=1.9 in c:\\users\\agadi\\documents\\a\\pythonprojects\\cricket-bot\\.venv\\lib\\site-packages (from jsonpatch<2.0,>=1.33->langchain-core<0.3.0,>=0.2.22->langchain) (3.0.0)\n",
      "Requirement already satisfied: intel-openmp==2021.* in c:\\users\\agadi\\documents\\a\\pythonprojects\\cricket-bot\\.venv\\lib\\site-packages (from mkl<=2021.4.0,>=2021.1.1->torch>=1.11.0->sentence_transformers) (2021.4.0)\n",
      "Requirement already satisfied: tbb==2021.* in c:\\users\\agadi\\documents\\a\\pythonprojects\\cricket-bot\\.venv\\lib\\site-packages (from mkl<=2021.4.0,>=2021.1.1->torch>=1.11.0->sentence_transformers) (2021.13.0)\n",
      "Requirement already satisfied: markdown-it-py>=2.2.0 in c:\\users\\agadi\\documents\\a\\pythonprojects\\cricket-bot\\.venv\\lib\\site-packages (from rich>=10.11.0->typer>=0.9.0->chromadb) (3.0.0)\n",
      "Requirement already satisfied: pygments<3.0.0,>=2.13.0 in c:\\users\\agadi\\documents\\a\\pythonprojects\\cricket-bot\\.venv\\lib\\site-packages (from rich>=10.11.0->typer>=0.9.0->chromadb) (2.18.0)\n",
      "Requirement already satisfied: mypy-extensions>=0.3.0 in c:\\users\\agadi\\documents\\a\\pythonprojects\\cricket-bot\\.venv\\lib\\site-packages (from typing-inspect<1,>=0.4.0->dataclasses-json<0.7,>=0.5.7->langchain-community) (1.0.0)\n",
      "Requirement already satisfied: humanfriendly>=9.1 in c:\\users\\agadi\\documents\\a\\pythonprojects\\cricket-bot\\.venv\\lib\\site-packages (from coloredlogs->onnxruntime>=1.14.1->chromadb) (10.0)\n",
      "Requirement already satisfied: mpmath<1.4,>=1.1.0 in c:\\users\\agadi\\documents\\a\\pythonprojects\\cricket-bot\\.venv\\lib\\site-packages (from sympy->onnxruntime>=1.14.1->chromadb) (1.3.0)\n",
      "Requirement already satisfied: pyreadline3 in c:\\users\\agadi\\documents\\a\\pythonprojects\\cricket-bot\\.venv\\lib\\site-packages (from humanfriendly>=9.1->coloredlogs->onnxruntime>=1.14.1->chromadb) (3.4.1)\n",
      "Requirement already satisfied: mdurl~=0.1 in c:\\users\\agadi\\documents\\a\\pythonprojects\\cricket-bot\\.venv\\lib\\site-packages (from markdown-it-py>=2.2.0->rich>=10.11.0->typer>=0.9.0->chromadb) (0.1.2)\n",
      "Requirement already satisfied: pyasn1<0.7.0,>=0.4.6 in c:\\users\\agadi\\documents\\a\\pythonprojects\\cricket-bot\\.venv\\lib\\site-packages (from pyasn1-modules>=0.2.1->google-auth>=1.0.1->kubernetes>=28.1.0->chromadb) (0.6.0)\n"
     ]
    }
   ],
   "source": [
    "!pip install langchain langchain-community langchain-huggingface langgraph langchain_experimental pymupdf tiktoken sentence_transformers chromadb  duckduckgo-search"
   ]
  },
  {
   "cell_type": "markdown",
   "metadata": {},
   "source": [
    "# Imports\n"
   ]
  },
  {
   "cell_type": "code",
   "execution_count": 2,
   "metadata": {},
   "outputs": [],
   "source": [
    "from langchain_community.chat_models import ChatOllama\n",
    "from langchain_core.output_parsers import StrOutputParser\n",
    "from langchain_core.prompts import ChatPromptTemplate, PromptTemplate\n",
    "from langchain_community.vectorstores import Chroma\n",
    "from langchain_community.document_loaders import PyMuPDFLoader\n",
    "from langchain_text_splitters import RecursiveCharacterTextSplitter\n",
    "from langchain_huggingface import HuggingFaceEmbeddings\n",
    "from langchain_experimental.llms.ollama_functions import OllamaFunctions\n",
    "from langchain_core.prompts import ChatPromptTemplate\n",
    "from langchain_core.pydantic_v1 import BaseModel, Field\n",
    "from langchain.schema import Document\n",
    "from langchain_core.runnables import RunnableLambda\n",
    "from langchain_community.utilities import SQLDatabase\n",
    "\n",
    "from langchain_community.tools import DuckDuckGoSearchResults\n",
    "from langgraph.graph import END, StateGraph\n",
    "\n",
    "from typing_extensions import TypedDict\n",
    "from typing import Literal, List\n",
    "import datetime"
   ]
  },
  {
   "cell_type": "code",
   "execution_count": 3,
   "metadata": {},
   "outputs": [],
   "source": [
    "model_name = \"llama3:instruct\"\n",
    "#model_name = \"llama3.1:8b-instruct-q4_0\"\n",
    "account_id = \"1234567892\"\n",
    "CURRENT_DATE_AND_DAY = f\"{datetime.datetime.now().strftime('%Y-%m-%d')}, {datetime.datetime.now().strftime('%A')}\""
   ]
  },
  {
   "cell_type": "markdown",
   "metadata": {},
   "source": [
    "# LLM\n"
   ]
  },
  {
   "cell_type": "code",
   "execution_count": 4,
   "metadata": {},
   "outputs": [],
   "source": [
    "llm = ChatOllama(base_url=\"http://localhost:11434\", model=model_name, temperature=0)"
   ]
  },
  {
   "cell_type": "markdown",
   "metadata": {},
   "source": [
    "# Indexing\n"
   ]
  },
  {
   "cell_type": "code",
   "execution_count": 5,
   "metadata": {},
   "outputs": [
    {
     "data": {
      "text/plain": [
       "[Document(metadata={'source': 'data/Citi_Marketplace.pdf', 'file_path': 'data/Citi_Marketplace.pdf', 'page': 0, 'total_pages': 130, 'format': 'PDF 1.6', 'title': 'Client Manual - Consumer Accounts', 'author': 'Citi', 'subject': '', 'keywords': '', 'creator': 'Adobe InDesign 18.1 (Windows)', 'producer': 'Adobe PDF Library 17.0', 'creationDate': \"D:20230828170222-04'00'\", 'modDate': \"D:20240612164435-04'00'\", 'trapped': ''}, page_content='Client Manual — \\nConsumer Accounts\\nU.S. Markets\\nEffective September 7, 2023\\nWelcome to Citibank and thank you for choosing us for your banking needs.\\nThis manual contains some important information you should know about your \\ndeposit relationship with Citibank. It is an agreement between you and us. From \\nAccount Transactions to Electronic Banking and beyond, we want you to understand \\nhow our products and services work, as well as to understand some of the important \\nresponsibilities that exist — yours and ours.\\nSome of these responsibilities are the same for every customer, no matter where you \\nlive. Others are different based on specific state laws. Some are described in additional \\nagreements. Together, these documents provide basic terms and conditions of our \\ndeposit relationship.\\nThis manual also contains an arbitration provision that covers all disputes between us.\\nPlease review this Client Manual thoroughly — and keep it for future reference. And if you \\nhave any questions, or need additional copies, please call us anytime at 1-888-CITIBANK \\nor Text Telephone (TTY): We accept 711 or other Relay Service, visit your local branch or use \\nthe search function on citi.com.\\nCitibank, N.A., Member FDIC\\nITEM US70001-ALL Pkg. 25\\n'),\n",
       " Document(metadata={'source': 'data/Citi_Marketplace.pdf', 'file_path': 'data/Citi_Marketplace.pdf', 'page': 1, 'total_pages': 130, 'format': 'PDF 1.6', 'title': 'Client Manual - Consumer Accounts', 'author': 'Citi', 'subject': '', 'keywords': '', 'creator': 'Adobe InDesign 18.1 (Windows)', 'producer': 'Adobe PDF Library 17.0', 'creationDate': \"D:20230828170222-04'00'\", 'modDate': \"D:20240612164435-04'00'\", 'trapped': ''}, page_content='Contents\\nContact Us\\t\\n4\\nCitiPhone Banking®\\t\\n4\\nOther Customer Service \\nTelephone Numbers*\\t\\n4\\nGeneral Terms — Consumer Use\\n Acknowledgment\\t\\n5\\nComplaints and Inquiries \\t\\n5\\nImportant Note to Australian \\nResident Clients\\t\\n5\\nDefinitions\\t\\n5\\nDefinitions of Types of Accounts\\t\\n8\\nAccount Opening/Ownership/\\nMaintenance\\t\\n10\\nAmendments/Changes to \\nThis Agreement\\t\\n10\\nArbitration\\t\\n10\\nConflicting Demands/Disputes\\t\\n10\\nExemplar Signature\\t\\n10\\nGoverning Law\\t\\n10\\nRate Region \\t\\n11\\nIndemnification\\t\\n11\\nInformation Sharing\\t\\n11\\nLimitation on Time to Sue or Arbitrate\\t\\n12\\nRecording Your Service Requests\\t\\n12\\nYour Consent for Us to Call You\\t\\n12\\nYour Consent for Us to Use Your \\nMobile Phone Number to Identify You\\t\\n12\\nSecurity Interest\\t\\n12\\nSeverability\\t\\n12\\nWaiver\\t\\n12\\nAccount Opening\\t\\n12\\nConsumer Reporting Agency \\nInformation\\t\\n13\\nUpdating Your Account Information\\t\\n14\\nTransferring Account Ownership\\t\\n14\\nLanguage Preference\\t\\n14\\nAccount Errors and Adjustments\\t\\n15\\nAssignments\\t\\n15\\nImportant Tax Information3 \\t\\n16\\nForeign Account Tax Compliance Act\\t\\n16\\nAccount Transactions\\t\\n17\\nWhat This Section Covers\\t\\n17\\nCheckbooks and Checks\\t\\n17\\nDeposits\\t\\n17\\nRemotely Created Checks\\t\\n18\\nEndorsements\\t\\n18\\nItems Sent for Collection\\t\\n19\\nVerification and Collection\\t\\n19\\nACH Provisional Credits\\t\\n19\\nNotice of Incoming Transfer\\t\\n19\\nDeposited Transaction Item \\nReturned Unpaid\\t\\n19\\nReconstructing Lost, Missing, or \\nDestroyed Deposits\\t\\n19\\nOur Right to Refuse Deposits\\t\\n20\\nAccount Balance and \\nTransaction Information\\t\\n20\\nExternal Funds Transfers\\t\\n21\\nCancellations or Amendments of \\nFunds Transfer Requests\\t\\n22\\nClaims\\t\\n24\\nWithdrawals\\t\\n24\\nAccount Statements and Notices, \\nPeriodic Statements\\t\\n32\\nCancelled Check Options\\t\\n32\\nSubstitute Checks and Your Rights\\t\\n33\\nFiling a Claim\\t\\n33\\nContents\\u2002|\\u20022\\n'),\n",
       " Document(metadata={'source': 'data/Citi_Marketplace.pdf', 'file_path': 'data/Citi_Marketplace.pdf', 'page': 2, 'total_pages': 130, 'format': 'PDF 1.6', 'title': 'Client Manual - Consumer Accounts', 'author': 'Citi', 'subject': '', 'keywords': '', 'creator': 'Adobe InDesign 18.1 (Windows)', 'producer': 'Adobe PDF Library 17.0', 'creationDate': \"D:20230828170222-04'00'\", 'modDate': \"D:20240612164435-04'00'\", 'trapped': ''}, page_content='Special Circumstances\\t\\n34\\nForfeited Accounts\\t\\n34\\nDeath or Legal Determination of \\nIncompetence\\t\\n34\\nDormant Accounts\\t\\n34\\nLegal Process\\t\\n34\\nRight of Setoff\\t\\n35\\nRestricted Access\\t\\n35\\nClosing a Deposit Account\\t\\n35\\nCertain Deposit Accounts with \\nTransactional Features\\t\\n36\\nForeign Currency Exchange\\t\\n38\\nLimitation of Liability\\t\\n38\\nElectronic Banking\\t\\n39\\nGeneral\\t\\n39\\nAccess Devices\\t\\n39\\nWithdrawal Posting Cut-Off Times\\t\\n40\\nTypes of Transactions; Limitations\\t\\n40\\nError Resolution and Notice Procedures \\nfor Claims or Questions concerning \\nConsumer International Global Transfers \\nand International Wire Transfers\\t\\n51\\nError Resolution and Notice Procedures \\nfor all other Electronic Fund Transfers\\t\\n52\\nConfidentiality at Citibank\\t\\n53\\nLimitation of Liability\\t\\n54\\nArbitration\\t\\n55\\nCovered Disputes\\t\\n55\\nArbitration Limits\\t\\n55\\nHow Arbitration Works\\t\\n56\\nPaying for Arbitration Fees\\t\\n56\\nThe Final Award\\t\\n56\\nRight to Resort to Provisional \\nRemedies Preserved\\t\\n56\\nSurvival and Severability of Terms\\t\\n56\\nRules for Rejecting This Arbitration \\nProvision\\t\\n57\\nAppendix 1: Introduction to \\nSimplified Banking \\t\\n58\\nIntroducing automatic linking \\nof accounts\\t\\n58\\nIntroducing Relationship Tiers\\t\\n58\\nIntroducing Family Linking\\t\\n58\\nSignature Card (Reference Copy)\\t\\n62\\nContents\\u2002|\\u20023\\n')]"
      ]
     },
     "execution_count": 5,
     "metadata": {},
     "output_type": "execute_result"
    }
   ],
   "source": [
    "loader = PyMuPDFLoader(file_path=r\"data/Citi_Marketplace.pdf\")\n",
    "documents = loader.load()\n",
    "documents[0:3]"
   ]
  },
  {
   "cell_type": "code",
   "execution_count": 6,
   "metadata": {},
   "outputs": [],
   "source": [
    "text_splitter = RecursiveCharacterTextSplitter(chunk_size=500, chunk_overlap=20)\n",
    "doc_splits = text_splitter.split_documents(documents=documents)"
   ]
  },
  {
   "cell_type": "code",
   "execution_count": 7,
   "metadata": {},
   "outputs": [
    {
     "name": "stderr",
     "output_type": "stream",
     "text": [
      "c:\\Users\\agadi\\Documents\\A\\PythonProjects\\Cricket-Bot\\.venv\\Lib\\site-packages\\sentence_transformers\\cross_encoder\\CrossEncoder.py:11: TqdmWarning: IProgress not found. Please update jupyter and ipywidgets. See https://ipywidgets.readthedocs.io/en/stable/user_install.html\n",
      "  from tqdm.autonotebook import tqdm, trange\n"
     ]
    }
   ],
   "source": [
    "embedding_function = HuggingFaceEmbeddings(model_name=\"all-MiniLM-L6-v2\")\n",
    "db = Chroma.from_documents(\n",
    "    documents=doc_splits,\n",
    "    embedding=embedding_function,\n",
    "    collection_name=\"citi-manuals\",\n",
    "    # persist_directory=\"citi-vector-store\",\n",
    ")"
   ]
  },
  {
   "cell_type": "code",
   "execution_count": 8,
   "metadata": {},
   "outputs": [],
   "source": [
    "retriever = db.as_retriever(search_kwargs={\"k\": 4})"
   ]
  },
  {
   "cell_type": "code",
   "execution_count": 9,
   "metadata": {},
   "outputs": [
    {
     "name": "stdout",
     "output_type": "stream",
     "text": [
      "Minimum Balance Requirement \n",
      "There is a minimum balance of $100 to maintain the Citibank® Savings Plus account. We reserve the right to \n",
      "close the account if the account balance falls below the minimum balance. \n",
      "Interest Rates \n",
      "The interest rates for the Citibank® Savings Plus account are variable, determined by Citibank at its sole \n",
      "discretion and can change at any time. For current interest rates and Annual Percentage Yields, please call\n",
      "--------------------------------------------------\n",
      "a minimum combined average monthly balance of $1,000,000 in eligible linked deposit, retirement and \n",
      "investment accounts.\n",
      "Your Citigold® relationship will change from the Citigold® Private Client to Citigold® Account Package if \n",
      "we determine that your combined average monthly balances in Citigold® Private Client does not meet the \n",
      "Citigold® Private client required minimum combined average monthly balance of $1,000,000 in eligible \n",
      "linked deposit, retirement and investment accounts.\n",
      "--------------------------------------------------\n",
      "Minimum Balance \n",
      "The minimum balance required to open a Certificate of Deposit account is $500. We may offer promotions, \n",
      "from time to time, which may require a different account opening balance. No additional deposits are \n",
      "permitted during the term. A CD account will automatically be closed after 20 consecutive calendar days \n",
      "with a zero balance. Citi reserves the right to close the CD if the balance falls below any applicable minimum\n",
      "--------------------------------------------------\n",
      "deposit accounts.\n",
      "The Citigold® Account Package requires a minimum combined average monthly balance of $200,000 in \n",
      "eligible linked deposit, retirement and investment accounts. If you do not maintain a minimum combined \n",
      "average monthly balance of $200,000 in eligible linked deposit, retirement and investment accounts, your \n",
      "Citigold® Account Package will be converted to a Citi Priority Account Package, and your accounts will be\n",
      "--------------------------------------------------\n"
     ]
    }
   ],
   "source": [
    "query = \"Whats the minimum balance we need to have?\"\n",
    "docs = db.similarity_search(query)\n",
    "\n",
    "# print results\n",
    "for doc in docs:\n",
    "    print(doc.page_content)\n",
    "    print(\"-\" * 50)"
   ]
  },
  {
   "cell_type": "markdown",
   "metadata": {},
   "source": [
    "# Router to route to the appropriate\n",
    "\n",
    "### Adaptive RAG\n"
   ]
  },
  {
   "cell_type": "code",
   "execution_count": 10,
   "metadata": {},
   "outputs": [],
   "source": [
    "llm_func = OllamaFunctions(\n",
    "    base_url=\"http://localhost:11434\", model=model_name, temperature=0\n",
    ")"
   ]
  },
  {
   "cell_type": "code",
   "execution_count": 11,
   "metadata": {},
   "outputs": [],
   "source": [
    "class RouteQuery(BaseModel):\n",
    "    \"\"\"Route user query to the most relevant datasource.\"\"\"\n",
    "\n",
    "    datasource: Literal[\"vectorstore\", \"web\", \"sql\"] = Field(\n",
    "        description=\"Given a user question choose to route it to web or a vector store or sql.\"\n",
    "    )\n",
    "\n",
    "\n",
    "structured_llm_router = llm_func.with_structured_output(RouteQuery)\n",
    "\n",
    "system_message = \"\"\"\n",
    "You are an expert at routing a user question to a vectorstore or web.\n",
    "The vectorstore contains documents related to - policies, deposit relationship, minimum balances, agreement, Account Transactions, Electronic Banking, products, services, responsibilities, customer, state laws, additional agreements, terms and conditions, arbitration provision, disputes.\n",
    "Use the vectorstore for the questions on these topics. \n",
    "Use SQL if the question can be answered by applying SQL queries on Account table and Transaction Table. \n",
    "For all else, use web.\"\"\"\n",
    "\n",
    "route_prompt = ChatPromptTemplate.from_messages(\n",
    "    [(\"system\", system_message), (\"human\", \"{question}\")]\n",
    ")\n",
    "\n",
    "question_router = route_prompt | structured_llm_router\n",
    "# print(question_router.invoke(\"Will the bank be closed this Friday?\"))"
   ]
  },
  {
   "cell_type": "markdown",
   "metadata": {},
   "source": [
    "# Grader to grade retrived documents\n",
    "\n",
    "### Corrective RAG\n"
   ]
  },
  {
   "cell_type": "code",
   "execution_count": 12,
   "metadata": {},
   "outputs": [],
   "source": [
    "class GradeDocuments(BaseModel):\n",
    "    \"\"\"Binary score for relevance check on retrieved documents\"\"\"\n",
    "\n",
    "    binary_score: Literal[\"yes\", \"no\"] = Field(\n",
    "        description=\"Documents are relevant to the question 'yes' or 'no'\"\n",
    "    )\n",
    "\n",
    "\n",
    "structured_llm_grader = llm_func.with_structured_output(GradeDocuments)\n",
    "\n",
    "system_message = \"\"\"\n",
    "You are a grader assessing relevance of a retrieved document to a user question.\n",
    "    If the document contains keyword(s) or semantic meaning related to the question, grade it as relevant.\n",
    "    Give a binary score 'yes' or 'no' score to indicate whether the document is relevant to the question.\"\"\"\n",
    "\n",
    "grade_prompt = ChatPromptTemplate.from_messages(\n",
    "    [\n",
    "        (\"system\", system_message),\n",
    "        (\"human\", \"Retreived Document: \\n\\n {document} User question: {question}\"),\n",
    "    ]\n",
    ")\n",
    "\n",
    "retrieval_grader = grade_prompt | structured_llm_grader\n",
    "# question = \"I have Savings Account and whats the minimum balance I need to maintain?\"\n",
    "# docs = retriever.invoke(question)\n",
    "# for doc in docs:\n",
    "#     print(doc.page_content)\n",
    "#     print(retrieval_grader.invoke({\"question\": question, \"document\":doc}))\n",
    "#     print(\"-\",50)"
   ]
  },
  {
   "cell_type": "markdown",
   "metadata": {},
   "source": [
    "# Generate Answer\n"
   ]
  },
  {
   "cell_type": "code",
   "execution_count": 13,
   "metadata": {},
   "outputs": [],
   "source": [
    "rag_template = \"\"\"\n",
    "You are an helpful virtual assistant chatbot of Citi bank for question-answering tasks. Do not let the user know uou are answering from a context. Use the following pieces of retrieved context to answer the question. If you don't know the answer, just say that you don't know. Use three sentences maximum and keep the answer concise.\n",
    "Question: {question} \n",
    "Context: {context} \n",
    "Answer:\n",
    "\"\"\"\n",
    "rag_prompt = PromptTemplate.from_template(template=rag_template)\n",
    "\n",
    "rag_chain = rag_prompt | llm | StrOutputParser()\n",
    "\n",
    "# untested_answer = rag_chain.invoke({\"context\" :docs, \"question\":question})\n",
    "# print(untested_answer)"
   ]
  },
  {
   "cell_type": "markdown",
   "metadata": {},
   "source": [
    "# Hallucination Grader\n"
   ]
  },
  {
   "cell_type": "code",
   "execution_count": 14,
   "metadata": {},
   "outputs": [],
   "source": [
    "class HallucinationGrader(BaseModel):\n",
    "    \"\"\"Binary score for hallucination present in the generation answer\"\"\"\n",
    "\n",
    "    binary_score: Literal[\"yes\", \"no\"] = Field(\n",
    "        description=\"Answer is grounded in the facts, 'yes' or 'no\"\n",
    "    )\n",
    "\n",
    "\n",
    "structured_llm_grader = llm_func.with_structured_output(HallucinationGrader)\n",
    "\n",
    "system_message = \"\"\"You are a grader assessing whether an LLM generation is grounded in / supported by a set of retrieved facts. \\n \n",
    "     Give a binary score 'yes' or 'no'. 'Yes' means that the answer is grounded in / supported by the set of facts.\"\"\"\n",
    "\n",
    "hallucination_prompt = ChatPromptTemplate.from_messages(\n",
    "    [\n",
    "        (\"system\", system_message),\n",
    "        (\"human\", \"Set of facts: \\n\\n {documents} \\n\\n LLM generation: {generation}\"),\n",
    "    ]\n",
    ")\n",
    "\n",
    "hallucination_grader = hallucination_prompt | structured_llm_grader\n",
    "# hallucination_grader.invoke({\"documents\": docs, \"generation\": untested_answer})"
   ]
  },
  {
   "cell_type": "markdown",
   "metadata": {},
   "source": [
    "# Answer Grader\n"
   ]
  },
  {
   "cell_type": "code",
   "execution_count": 15,
   "metadata": {},
   "outputs": [],
   "source": [
    "class AnswerGrader(BaseModel):\n",
    "    # \"\"\"Binary score to assess answer adresses question.\"\"\"\n",
    "\n",
    "    binary_score: Literal[\"yes\", \"no\"] = Field(\n",
    "        description=\"Answer addresses the question, 'yes' or 'no'\"\n",
    "    )\n",
    "\n",
    "\n",
    "structured_llm_grader = llm_func.with_structured_output(AnswerGrader)\n",
    "\n",
    "system_message = \"\"\"You are a grader assessing whether an answer addresses / resolves a question \\n \n",
    "     Give a binary score 'yes' or 'no'. Yes' means that the answer resolves the question.\"\"\"\n",
    "\n",
    "answer_prompt = ChatPromptTemplate.from_messages(\n",
    "    [\n",
    "        (\"system\", system_message),\n",
    "        (\"human\", \"User question: \\n\\n {question} \\n\\n LLM generation: {generation}\"),\n",
    "    ]\n",
    ")\n",
    "\n",
    "answer_grader = answer_prompt | structured_llm_grader\n",
    "# answer_grader.invoke({\"question\": question,\"generation\": untested_answer})"
   ]
  },
  {
   "cell_type": "markdown",
   "metadata": {},
   "source": [
    "# Web Search Tool\n"
   ]
  },
  {
   "cell_type": "code",
   "execution_count": 16,
   "metadata": {},
   "outputs": [],
   "source": [
    "web_search_tool = DuckDuckGoSearchResults()"
   ]
  },
  {
   "cell_type": "markdown",
   "metadata": {},
   "source": [
    "# Generate SQL Query\n"
   ]
  },
  {
   "cell_type": "code",
   "execution_count": 17,
   "metadata": {},
   "outputs": [],
   "source": [
    "sql_db = SQLDatabase.from_uri(\n",
    "    r\"sqlite:///data/bank.sqlite\", sample_rows_in_table_info=3\n",
    ")"
   ]
  },
  {
   "cell_type": "code",
   "execution_count": 18,
   "metadata": {},
   "outputs": [],
   "source": [
    "system_message = \"\"\" \n",
    "### Instructions:\n",
    "Your task is to convert a question into a SQL query, given a sqlite database schema.\n",
    "Adhere to these rules:\n",
    "- **Apply a WHERE condition to every query based on account_number; always use the account number exactly as ACC_NUM. Do not take account number input from the user** \n",
    "- **Deliberately go through the question and database schema word by word** to appropriately answer the question\n",
    "- **Use Table Aliases** to prevent ambiguity. If you are using alias, use only alias with columns, donot use table name with columns\n",
    "- When creating a ratio, always cast the numerator as float\n",
    "- Use the built in functions when the date is involved eg: DATE('now', '-7 days')\n",
    "- **Output just the query nothing else**\n",
    "- **Donot include any of escape sequneces**\n",
    "- Today's date and day are {CURRENT_DATE_AND_DAY}\n",
    "- Never use * to query all columns\n",
    "- Never query for all columns from a table. You must query only the columns that are needed to answer the question. Wrap each column name in double quotes (\") to denote them as delimited identifiers.\n",
    "\n",
    "### Input:\n",
    "Generate a SQL query that answers the question `{question}`.\n",
    "This query will run on a database whose schema is represented in this string:\n",
    "\n",
    "CREATE TABLE accounts (\n",
    "AccountID INTEGER PRIMARY KEY, -- Unique ID for each account\n",
    "AccountNumber VARCHAR(20), -- Account number\n",
    "AccountHolderName VARCHAR(50), -- Name of the account holder\n",
    "AccountType VARCHAR(20), -- Type of the account (Checking, Savings)\n",
    "OpeningDate DATE, -- Date when the account was opened\n",
    "Balance DECIMAL(10,2), -- Current balance of the account\n",
    "Currency VARCHAR(3) -- Currency of the account balance\n",
    ");\n",
    "\n",
    "CREATE TABLE transactions (\n",
    "TransactionID INTEGER PRIMARY KEY, -- Unique ID for each transaction\n",
    "Date DATE, -- Date of the transaction\n",
    "AccountNumber VARCHAR(20), -- Account number associated with the transaction\n",
    "TransactionType VARCHAR(20), -- Type of the transaction can only be Transfer or Withdrawal\n",
    "Amount DECIMAL(10,2), -- Amount of the transaction\n",
    "Currency VARCHAR(3), -- Currency of the transaction amount\n",
    "Recepient VARCHAR(50) -- Recipient of the transaction\n",
    ");\n",
    "\n",
    "-- transactions.AccountNumber can be joined with accounts.AccountNumber\n",
    "-- TransactionType Transfer is to transfer money to other, Withdrawl is self withdrwal\n",
    "\n",
    "### Example:\n",
    "Question: What is my account balance?\n",
    "Answer: SELECT a.balance FROM accounts a WHERE a.AccountNumber = 'ACC_NUM';\n",
    "\n",
    "Question: List all transactions for the last month.\n",
    "Answer: SELECT t.* FROM transactions t WHERE t.date >= CURRENT_DATE - INTERVAL '1 month' AND t.AccountNumber = 'ACC_NUM';\n",
    "```sql\n",
    "\"\"\""
   ]
  },
  {
   "cell_type": "code",
   "execution_count": 19,
   "metadata": {},
   "outputs": [],
   "source": [
    "# replace_with_account_number = RunnableLambda(\n",
    "#     lambda query: query.replace(\"ACC_NUM\", account_id)\n",
    "# )\n",
    "\n",
    "sql_prompt = PromptTemplate.from_template(system_message)\n",
    "\n",
    "sql_chain = sql_prompt | llm | StrOutputParser()\n",
    "\n",
    "# res = sql_chain.invoke({\"question\": \"Whats my balance?\"})"
   ]
  },
  {
   "cell_type": "markdown",
   "metadata": {},
   "source": [
    "# SQL Query Analyzer\n"
   ]
  },
  {
   "cell_type": "code",
   "execution_count": 20,
   "metadata": {},
   "outputs": [],
   "source": [
    "class QueryAnalyzer(BaseModel):\n",
    "    query_changed: Literal[\"yes\", \"no\"] = Field(\n",
    "        description=\"Query addresses the question, 'yes' or 'no'\"\n",
    "    )\n",
    "    query: str = Field(\n",
    "        description=\"corrected query if the original query was incorrect, or the same query if it was correct\"\n",
    "    )\n",
    "\n",
    "structured_llm_query_analyzer = llm_func.with_structured_output(QueryAnalyzer)\n",
    "\n",
    "query_analyzer_template = \"\"\"\n",
    "### Instructions:\n",
    "Your task is to check if a given SQLite SQL query is correct based on the user question and the context provided. If the query is correct, return it as is. If the query needs to be corrected, provide the corrected query. Your response should be in JSON format and should include whether the query was changed or not.\n",
    "\n",
    "Adhere to these rules:\n",
    "- **Apply a WHERE condition to every query based on account_number; always use the account number exactly as ACC_NUM. Do not take account number input from the user**\n",
    "- **Deliberately go through the question and database schema word by word** to appropriately answer the question\n",
    "- **Use Table Aliases** to prevent ambiguity. If you are using alias, use only alias with columns, donot use table name with columns\n",
    "- When creating a ratio, always cast the numerator as float\n",
    "- Use the built-in functions when the date is involved e.g., DATE('now', '-7 days')\n",
    "- **Output just the query, nothing else**\n",
    "- **Do not include any escape sequences**\n",
    "- Never query for all the columns from a specific table, only ask for the relevant columns given the question.\n",
    "- Today's date and day are {CURRENT_DATE_AND_DAY}\n",
    "- Never use * to query all columns\n",
    "- Never query for all columns from a table. You must query only the columns that are needed to answer the question. Wrap each column name in double quotes (\") to denote them as delimited identifiers.\n",
    "\n",
    "\n",
    "### Database Schema\n",
    "\n",
    "CREATE TABLE accounts (\n",
    "AccountID INTEGER PRIMARY KEY, -- Unique ID for each account\n",
    "AccountNumber VARCHAR(20), -- Account number\n",
    "AccountHolderName VARCHAR(50), -- Name of the account holder\n",
    "AccountType VARCHAR(20), -- Type of the account (e.g., Checking, Savings)\n",
    "OpeningDate DATE, -- Date when the account was opened\n",
    "Balance DECIMAL(10,2), -- Current balance of the account\n",
    "Currency VARCHAR(3) -- Currency of the account balance\n",
    ");\n",
    "\n",
    "CREATE TABLE transactions (\n",
    "TransactionID INTEGER PRIMARY KEY, -- Unique ID for each transaction\n",
    "Date DATE, -- Date of the transaction\n",
    "AccountNumber VARCHAR(20), -- Account number associated with the transaction\n",
    "TransactionType VARCHAR(20), -- Type of the transaction can only be Transfer or Withdrawal\n",
    "Amount DECIMAL(10,2), -- Amount of the transaction\n",
    "Currency VARCHAR(3), -- Currency of the transaction amount\n",
    "Recipient VARCHAR(50) -- Recipient of the transaction\n",
    ");\n",
    "\n",
    "-- transactions.AccountNumber can be joined with accounts.AccountNumber\n",
    "-- TransactionType Transfer is to transfer money to other, Withdrawl is self withdrwal\n",
    "\"\"\"\n",
    "query_analyzer_prompt = ChatPromptTemplate.from_messages(\n",
    "    [\n",
    "        (\"system\",query_analyzer_template),\n",
    "        (\"human\",\"User Question:{question} \\nOriginal Query: {query}\")\n",
    "    ]\n",
    ")\n",
    "\n",
    "\n",
    "query_analyzer_chain = query_analyzer_prompt | structured_llm_query_analyzer\n",
    "\n",
    "# query_analyzer_chain.invoke(\n",
    "#     {\n",
    "#         \"question\": \"\"\"SELECT t.Recipient, SUM(t.Amount) AS TotalSpent FROM transactions t WHERE t.Date BETWEEN DATE('now', '-3 months') AND DATE('now') AND t.AccountNumber = 'ACC_NUM' GROUP BY t.Recipient;\"\"\",\n",
    "#         \"query\": \"Where did I spend my money in April?\",\n",
    "#         \"CURRENT_DATE_AND_DAY\": CURRENT_DATE_AND_DAY\n",
    "#     }\n",
    "# )"
   ]
  },
  {
   "cell_type": "markdown",
   "metadata": {},
   "source": [
    "# SQL Query Correction\n"
   ]
  },
  {
   "cell_type": "code",
   "execution_count": 21,
   "metadata": {},
   "outputs": [],
   "source": [
    "system_message = \"\"\"\n",
    "### Instructions:\n",
    "You are a sqlite expert. Your task is to solve errors in the sqlite SQL query, given a user question, the generated query, and the error.\n",
    "Adhere to these rules:\n",
    "- **Apply a WHERE condition to every query based on account_number; always use the account number exactly as ACC_NUM. Do not take account number input from the user**\n",
    "- **Deliberately go through the question and database schema word by word** to appropriately answer the question\n",
    "- **Use Table Aliases** to prevent ambiguity. If you are using alias, use only alias with columns, donot use table name with columns\n",
    "- When creating a ratio, always cast the numerator as float\n",
    "- Use the built-in functions when the date is involved e.g., DATE('now', '-7 days')\n",
    "- **Output just the query, nothing else**\n",
    "- **Do not include any escape sequences**\n",
    "- Never query for all the columns from a specific table, only ask for the relevant columns given the question.\n",
    "- Today's date and day are {CURRENT_DATE_AND_DAY}\n",
    "- Never use * to query all columns\n",
    "- Never query for all columns from a table. You must query only the columns that are needed to answer the question. Wrap each column name in double quotes (\") to denote them as delimited identifiers.\n",
    "\n",
    "\n",
    "### Input:\n",
    "Solve the error in the SQL query given the \n",
    "question: `{question}` \n",
    "query: `{query}`\n",
    "error: `{error}`\n",
    "This query will run on a database whose schema is represented in this string:\n",
    "\n",
    "CREATE TABLE accounts (\n",
    "AccountID INTEGER PRIMARY KEY, -- Unique ID for each account\n",
    "AccountNumber VARCHAR(20), -- Account number\n",
    "AccountHolderName VARCHAR(50), -- Name of the account holder\n",
    "AccountType VARCHAR(20), -- Type of the account (e.g., Checking, Savings)\n",
    "OpeningDate DATE, -- Date when the account was opened\n",
    "Balance DECIMAL(10,2), -- Current balance of the account\n",
    "Currency VARCHAR(3) -- Currency of the account balance\n",
    ");\n",
    "\n",
    "CREATE TABLE transactions (\n",
    "TransactionID INTEGER PRIMARY KEY, -- Unique ID for each transaction\n",
    "Date DATE, -- Date of the transaction\n",
    "AccountNumber VARCHAR(20), -- Account number associated with the transaction\n",
    "TransactionType VARCHAR(20), -- Type of the transaction can only be Transfer or Withdrawal\n",
    "Amount DECIMAL(10,2), -- Amount of the transaction\n",
    "Currency VARCHAR(3), -- Currency of the transaction amount\n",
    "Recipient VARCHAR(50) -- Recipient of the transaction\n",
    ");\n",
    "\n",
    "-- transactions.AccountNumber can be joined with accounts.AccountNumber\n",
    "-- TransactionType Transfer is to transfer money to other, Withdrawl is self withdrwal\n",
    "\n",
    "### Example:\n",
    "Question: What is my account balance?\n",
    "Generated Query: SELECT a.balance FROM accounts a WHERE a.AccountNumber = 'ACC_NUM';\n",
    "Error: No such column: balance\n",
    "Correct Query: SELECT a.Balance FROM accounts a WHERE a.AccountNumber = 'ACC_NUM';\n",
    "\n",
    "Question: List all transactions for the last month.\n",
    "Generated Query: SELECT t.* FROM transactions t WHERE t.date >= CURRENT_DATE - INTERVAL '1 month' AND t.AccountNumber = 'ACC_NUM';\n",
    "Error: near \"INTERVAL\": syntax error\n",
    "Correct Query: SELECT t.TransactionID, t.Date, t.TransactionType, t.Amount, t.Currency, t.Recipient FROM transactions t WHERE t.Date >= DATE('now', '-1 month') AND t.AccountNumber = 'ACC_NUM';\n",
    "\"\"\""
   ]
  },
  {
   "cell_type": "code",
   "execution_count": 22,
   "metadata": {},
   "outputs": [],
   "source": [
    "sql_correction_prompt = PromptTemplate.from_template(system_message)\n",
    "\n",
    "sql_correction_chain = (\n",
    "    sql_correction_prompt | llm | StrOutputParser() \n",
    ")\n",
    "\n",
    "# res = sql_correction_chain.invoke({\"question\":\"What are my transactions this month?\",\n",
    "#                                    \"query\":\"SELECT t.* FROM transactions t WHERE t.Date >= DATE()'now', '-1 month') AND t.AccountNumber = '1234567892';\",\n",
    "#                                      \"error\":\"(sqlite3.OperationalError) near \"'now'\": syntax error\"})"
   ]
  },
  {
   "cell_type": "markdown",
   "metadata": {},
   "source": [
    "# LLM Response from SQL Query\n"
   ]
  },
  {
   "cell_type": "code",
   "execution_count": 23,
   "metadata": {},
   "outputs": [],
   "source": [
    "system_message = \"\"\"\n",
    "### Instructions:\n",
    "Your task is to convert the result of a SQL query into a natural language answer, given the user question, the generated SQL query, and the query result.\n",
    "Adhere to these rules:\n",
    "- **Read through the user question, generated query, and query result carefully** to provide an accurate and concise natural language answer.\n",
    "- **Answer should be clear and easily understandable.**\n",
    "- **Respond only with answer**\n",
    "\n",
    "### Input:\n",
    "User Question: `{question}`\n",
    "Generated SQL Query: `{query}`\n",
    "Query Result: `{result}`\n",
    "\n",
    "### Response:\n",
    "Based on the provided information, here is the natural language answer to the question:\n",
    "\"\"\"\n",
    "answer_from_sql_prompt = PromptTemplate.from_template(system_message)\n",
    "\n",
    "answer_from_sql_chain = answer_from_sql_prompt | llm | StrOutputParser()\n",
    "\n",
    "# answer_from_sql_chain.invoke({\n",
    "#     \"question\": \"Whats my balance?\",\n",
    "#     \"query\": res,\n",
    "#     \"result\": [(6000.0,)]\n",
    "# })"
   ]
  },
  {
   "cell_type": "markdown",
   "metadata": {},
   "source": [
    "# Graph\n"
   ]
  },
  {
   "cell_type": "markdown",
   "metadata": {},
   "source": [
    "### Graph State\n"
   ]
  },
  {
   "cell_type": "code",
   "execution_count": 24,
   "metadata": {},
   "outputs": [],
   "source": [
    "class GraphState(TypedDict):\n",
    "    question: str\n",
    "    generation: str\n",
    "    web_search: str\n",
    "    sql_query: str\n",
    "    sql_answer: str\n",
    "    sql_error: str\n",
    "    sql_attempt: int\n",
    "    documents: List[str]"
   ]
  },
  {
   "cell_type": "markdown",
   "metadata": {},
   "source": [
    "### Nodes\n"
   ]
  },
  {
   "cell_type": "code",
   "execution_count": 25,
   "metadata": {},
   "outputs": [],
   "source": [
    "def retrieve(state):\n",
    "    print(\"---RETRIEVE---\")\n",
    "    question = state[\"question\"]\n",
    "    documents = retriever.invoke(question)\n",
    "    return {\"documents\": documents, \"question\": question}\n",
    "\n",
    "\n",
    "def generate(state):\n",
    "    print(\"---GENERATE---\")\n",
    "    question = state[\"question\"]\n",
    "    documents = state[\"documents\"]\n",
    "    generation = rag_chain.invoke({\"context\": documents, \"question\": question})\n",
    "    return {\"documents\": documents, \"question\": question, \"generation\": generation}\n",
    "\n",
    "\n",
    "def grade_documents(state):\n",
    "    question = state[\"question\"]\n",
    "    documents = state[\"documents\"]\n",
    "\n",
    "    filtered_documents = []\n",
    "    print(\"---CHECK DOCUMENT RELEVANCE TO QUESTION---\")\n",
    "    for d in documents:\n",
    "        score = retrieval_grader.invoke(\n",
    "            {\"question\": question, \"document\": d.page_content}\n",
    "        )\n",
    "        grade = score.binary_score\n",
    "        if grade.lower() == \"yes\":\n",
    "            print(\"---GRADE: DOCUMENT RELEVANT---\")\n",
    "            filtered_documents.append(d)\n",
    "        else:\n",
    "            print(\"---GRADE: DOCUMENT NOT RELEVANT---\")\n",
    "\n",
    "    web_search = \"yes\" if len(filtered_documents) == 0 else \"No\"\n",
    "    return {\n",
    "        \"documents\": filtered_documents,\n",
    "        \"question\": question,\n",
    "        \"web_search\": web_search,\n",
    "    }\n",
    "\n",
    "\n",
    "def web_search(state):\n",
    "    print(\"---WEB SEARCH---\")\n",
    "    question = state[\"question\"]\n",
    "    docs = web_search_tool.invoke(input=question)\n",
    "    web_results = Document(page_content=docs)\n",
    "    documents = [web_results]\n",
    "    return {\"documents\": documents, \"question\": question}\n",
    "\n",
    "\n",
    "def route_question(state):\n",
    "    print(\"---ROUTE QUESTION---\")\n",
    "    question = state[\"question\"]\n",
    "    source = question_router.invoke({\"question\": question})\n",
    "    if source.datasource == \"web\":\n",
    "        print(\"---ROUTE QUESTION TO WEB SEARCH---\")\n",
    "        return \"web\"\n",
    "    elif source.datasource == \"vectorstore\":\n",
    "        print(\"---ROUTE QUESTION TO VECTOR DATABASE---\")\n",
    "        return \"vectorstore\"\n",
    "    elif source.datasource == \"sql\":\n",
    "        print(\"---ROUTE QUESTION TO SQL DATABASE---\")\n",
    "        return \"sql\"\n",
    "\n",
    "\n",
    "def decide_to_generate(state):\n",
    "    print(\"---ASSESS GRADED DOCUMENTS---\")\n",
    "    web_search = state[\"web_search\"]\n",
    "    if web_search == \"yes\":\n",
    "        print(\n",
    "            \"---DECISION: ALL DOCUMENTS ARE NOT RELEVANT TO QUESTION, INCLUDE WEB SEARCH---\"\n",
    "        )\n",
    "        return \"web\"\n",
    "    print(\"---DECISION: GENERATE---\")\n",
    "    return \"generate\"\n",
    "\n",
    "\n",
    "def grade_generation_v_documents_and_question(state):\n",
    "    question = state[\"question\"]\n",
    "    documents = state[\"documents\"]\n",
    "    generation = state[\"generation\"]\n",
    "    print(\"---CHECK HALLUCINATIONS---\")\n",
    "    score = hallucination_grader.invoke(\n",
    "        {\"documents\": documents, \"generation\": generation}\n",
    "    )\n",
    "    grade = score.binary_score\n",
    "    if grade == \"yes\":\n",
    "        print(\"---DECISION: GENERATION IS GROUNDED IN DOCUMENTS---\")\n",
    "        score = answer_grader.invoke({\"question\": question, \"generation\": generation})\n",
    "        grade = score.binary_score\n",
    "        if grade == \"yes\":\n",
    "            print(\"---DECISION: GENERATION ADDRESSES QUESTION---\")\n",
    "            return \"useful\"\n",
    "        print(\"---DECISION: GENERATION DOES NOT ADDRESS QUESTION---\")\n",
    "        return \"not useful\"\n",
    "    print(\"---DECISION: GENERATION IS NOT GROUNDED IN DOCUMENTS, RE-TRY---\")\n",
    "    return \"not supported\"\n",
    "\n",
    "\n",
    "def unable_to_answer(state):\n",
    "    return {\"generation\": \"Unable to answer\"}\n",
    "\n",
    "\n",
    "def generate_sql_query(state):\n",
    "    print(\"---GENERATE SQL QUERY---\")\n",
    "    question = state[\"question\"]\n",
    "    query = sql_chain.invoke(\n",
    "        {\"question\": question, \"CURRENT_DATE_AND_DAY\": CURRENT_DATE_AND_DAY}\n",
    "    )\n",
    "    return {\"question\": question, \"sql_query\": query}\n",
    "\n",
    "def analyze_sql_query(state):\n",
    "    print(\"---ANALYZING THE SQL QUERY CORRECTNESS---\")\n",
    "    question = state['question']\n",
    "    query = state['sql_query']\n",
    "    analyzed_details = query_analyzer_chain.invoke({\n",
    "        \"question\": question,\n",
    "        \"query\": query,\n",
    "        \"CURRENT_DATE_AND_DAY\": CURRENT_DATE_AND_DAY\n",
    "    })\n",
    "\n",
    "    print(analyzed_details)\n",
    "\n",
    "    analyzed_count = 1\n",
    "    while analyzed_details.query_changed == \"yes\":\n",
    "        print(f\"---CORRECTING THE QUERY - {analyzed_count}\")\n",
    "        analyzed_details = query_analyzer_chain.invoke({\n",
    "            \"question\": question,\n",
    "            \"query\": analyzed_details.query,\n",
    "            \"CURRENT_DATE_AND_DAY\": CURRENT_DATE_AND_DAY\n",
    "        })\n",
    "        print(analyzed_details)\n",
    "        analyzed_count+=1\n",
    "\n",
    "    return {\"question\" : question, \"sql_query\":analyzed_details.query}\n",
    "\n",
    "\n",
    "def execute_sql_query(state):\n",
    "    print(\"---EXCEUTING SQL---\")\n",
    "    query = state[\"sql_query\"]\n",
    "    query = query.replace(\"ACC_NUM\", account_id)\n",
    "    print(query)\n",
    "    error = \"\"\n",
    "    try:\n",
    "        answer = sql_db.run(query)\n",
    "        print(\"---QUERY RAN SUCCESSFULLY---\")\n",
    "    except Exception as e:\n",
    "        print(\"---QUERY HAS ERROR---\")\n",
    "        error = e._message()\n",
    "        print(f\"---ERROR: {error}---\")\n",
    "\n",
    "    if error == \"\":\n",
    "        return {**state, \"sql_answer\": answer, \"sql_error\": error}\n",
    "    else:\n",
    "        return {**state, \"sql_error\": error}\n",
    "\n",
    "\n",
    "def decide_to_generate_answer_from_query(state):\n",
    "    if state[\"sql_error\"] == \"\":\n",
    "        print(\"---DECISION: QUERY CORRECT; SEND TO GENERATE ANSWER FROM SQL---\")\n",
    "        return \"no_errors\"\n",
    "    else:\n",
    "        print(\"---DECISION: QUERY INCORRECT; SEND TO REGENERATE QUERY---\")\n",
    "        return \"errors\"\n",
    "\n",
    "\n",
    "def regenerate_sql_query(state):\n",
    "    present_attempt = (\n",
    "        0\n",
    "        if \"sql_attempt\" not in state\n",
    "        else 0 if state[\"sql_attempt\"] is None else state[\"sql_attempt\"]\n",
    "    )\n",
    "    print(\"PRESENT ATTEMPT\", present_attempt)\n",
    "    attempt = int(present_attempt) + 1\n",
    "    print(f\"---VERIFY SQL (attemp: {attempt})---\")\n",
    "    question = state[\"question\"]\n",
    "    query = state[\"sql_query\"]\n",
    "    error = state[\"sql_error\"]\n",
    "    new_query = sql_correction_chain.invoke(\n",
    "        {\n",
    "            \"question\": question,\n",
    "            \"query\": query,\n",
    "            \"error\": error,\n",
    "            \"CURRENT_DATE_AND_DAY\": CURRENT_DATE_AND_DAY,\n",
    "        }\n",
    "    )\n",
    "    state[\"sql_query\"] = query\n",
    "    state[\"sql_attemt\"] = attempt\n",
    "    return state\n",
    "\n",
    "\n",
    "def generate_answer_from_sql(state):\n",
    "    print(\"---GENERATING ANSWER FROM QUERY---\")\n",
    "    generation = answer_from_sql_chain.invoke(\n",
    "        {\n",
    "            \"question\": state[\"question\"],\n",
    "            \"query\": state[\"sql_query\"],\n",
    "            \"result\": state[\"sql_answer\"],\n",
    "        }\n",
    "    )\n",
    "    state[\"generation\"] = generation\n",
    "    return {\"generation\": generation}"
   ]
  },
  {
   "cell_type": "markdown",
   "metadata": {},
   "source": [
    "### Build Graph\n"
   ]
  },
  {
   "cell_type": "code",
   "execution_count": 26,
   "metadata": {},
   "outputs": [],
   "source": [
    "workflow = StateGraph(GraphState)\n",
    "\n",
    "# # adding nodes\n",
    "workflow.add_node(\"websearch\", web_search)\n",
    "workflow.add_node(\"retrieve\", retrieve)\n",
    "workflow.add_node(\"grade_documents\", grade_documents)\n",
    "workflow.add_node(\"generate\", generate)\n",
    "workflow.add_node(\"unable_to_answer\", unable_to_answer)\n",
    "workflow.add_node(\"generate_query\", generate_sql_query)\n",
    "workflow.add_node(\"execute_query\", execute_sql_query)\n",
    "workflow.add_node(\"regenerate_query\", regenerate_sql_query)\n",
    "workflow.add_node(\"generate_answer_from_sql\", generate_answer_from_sql)\n",
    "workflow.add_node(\"sql_query_analyzer\",analyze_sql_query)\n",
    "\n",
    "# adding connections\n",
    "workflow.set_conditional_entry_point(\n",
    "    route_question,\n",
    "    {\"web\": \"websearch\", \"vectorstore\": \"retrieve\", \"sql\": \"generate_query\"},\n",
    ")\n",
    "\n",
    "workflow.add_edge(\"generate_query\", \"sql_query_analyzer\")\n",
    "workflow.add_edge(\"sql_query_analyzer\", \"execute_query\")\n",
    "\n",
    "workflow.add_conditional_edges(\n",
    "    \"execute_query\",\n",
    "    decide_to_generate_answer_from_query,\n",
    "    {\n",
    "        \"errors\": \"regenerate_query\",\n",
    "        \"no_errors\": \"generate_answer_from_sql\",\n",
    "    },\n",
    ")\n",
    "workflow.add_edge(\"regenerate_query\", \"execute_query\")\n",
    "\n",
    "\n",
    "workflow.add_edge(\"websearch\", \"generate\")\n",
    "workflow.add_edge(\"retrieve\", \"grade_documents\")\n",
    "workflow.add_conditional_edges(\n",
    "    \"grade_documents\",\n",
    "    decide_to_generate,\n",
    "    {\n",
    "        \"websearch\": \"websearch\",\n",
    "        \"generate\": \"generate\",\n",
    "    },\n",
    ")\n",
    "workflow.add_conditional_edges(\n",
    "    \"generate\",\n",
    "    grade_generation_v_documents_and_question,\n",
    "    {\n",
    "        \"not supported\": \"generate\",\n",
    "        \"useful\": END,\n",
    "        \"not useful\": \"unable_to_answer\",\n",
    "    },\n",
    ")\n",
    "\n",
    "workflow.add_edge(\"generate_answer_from_sql\", END)\n",
    "\n",
    "workflow.add_edge(\"unable_to_answer\", END)\n",
    "\n",
    "app = workflow.compile()"
   ]
  },
  {
   "cell_type": "code",
   "execution_count": 27,
   "metadata": {},
   "outputs": [
    {
     "data": {
      "image/jpeg": "[encoded data removed]",
      "text/plain": [
       "<IPython.core.display.Image object>"
      ]
     },
     "metadata": {},
     "output_type": "display_data"
    }
   ],
   "source": [
    "from IPython.display import Image, display\n",
    "\n",
    "try:\n",
    "    display(Image(app.get_graph(xray=True).draw_mermaid_png()))\n",
    "except Exception:\n",
    "    # This requires some extra dependencies and is optional\n",
    "    pass"
   ]
  },
  {
   "cell_type": "code",
   "execution_count": 28,
   "metadata": {},
   "outputs": [
    {
     "name": "stdout",
     "output_type": "stream",
     "text": [
      "---ROUTE QUESTION---\n",
      "---ROUTE QUESTION TO VECTOR DATABASE---\n",
      "---RETRIEVE---\n",
      "---CHECK DOCUMENT RELEVANCE TO QUESTION---\n",
      "---GRADE: DOCUMENT RELEVANT---\n",
      "---GRADE: DOCUMENT RELEVANT---\n",
      "---GRADE: DOCUMENT RELEVANT---\n",
      "---GRADE: DOCUMENT RELEVANT---\n",
      "---ASSESS GRADED DOCUMENTS---\n",
      "---DECISION: GENERATE---\n",
      "---GENERATE---\n",
      "---CHECK HALLUCINATIONS---\n",
      "---DECISION: GENERATION IS GROUNDED IN DOCUMENTS---\n",
      "---DECISION: GENERATION ADDRESSES QUESTION---\n"
     ]
    },
    {
     "data": {
      "text/plain": [
       "'To file a claim with Citi, please provide the required information, including a description of your loss, the amount of your loss, and an explanation for why the original check is needed. You can also write to us at Citibank Client Services, P.O. Box 769014, San Antonio, TX 78245-9989.'"
      ]
     },
     "execution_count": 28,
     "metadata": {},
     "output_type": "execute_result"
    }
   ],
   "source": [
    "inputs = {\"question\": \"How can I file a claim?\"}\n",
    "answer = app.invoke(inputs)\n",
    "answer[\"generation\"]"
   ]
  },
  {
   "cell_type": "code",
   "execution_count": 29,
   "metadata": {},
   "outputs": [
    {
     "name": "stdout",
     "output_type": "stream",
     "text": [
      "---ROUTE QUESTION---\n",
      "---ROUTE QUESTION TO WEB SEARCH---\n",
      "---WEB SEARCH---\n",
      "---GENERATE---\n",
      "---CHECK HALLUCINATIONS---\n",
      "---DECISION: GENERATION IS GROUNDED IN DOCUMENTS---\n",
      "---DECISION: GENERATION ADDRESSES QUESTION---\n"
     ]
    },
    {
     "data": {
      "text/plain": [
       "\"According to the context, Citi's CEO is Jane Fraser. She became CEO in March 2021 and has been leading the bank since then.\""
      ]
     },
     "execution_count": 29,
     "metadata": {},
     "output_type": "execute_result"
    }
   ],
   "source": [
    "inputs = {\"question\": \"Who is Citi Ceo?\"}\n",
    "answer = app.invoke(inputs)\n",
    "answer[\"generation\"]"
   ]
  },
  {
   "cell_type": "code",
   "execution_count": 30,
   "metadata": {},
   "outputs": [
    {
     "name": "stdout",
     "output_type": "stream",
     "text": [
      "---ROUTE QUESTION---\n",
      "---ROUTE QUESTION TO SQL DATABASE---\n",
      "---GENERATE SQL QUERY---\n",
      "---ANALYZING THE SQL QUERY CORRECTNESS---\n",
      "query_changed='no' query=\"SELECT SUM(t.Amount) FROM transactions t WHERE t.Date BETWEEN DATE('2024-05-01') AND DATE('2024-05-31') AND t.AccountNumber = 'ACC_NUM';\"\n",
      "---EXCEUTING SQL---\n",
      "SELECT SUM(t.Amount) FROM transactions t WHERE t.Date BETWEEN DATE('2024-05-01') AND DATE('2024-05-31') AND t.AccountNumber = '1234567892';\n",
      "---QUERY RAN SUCCESSFULLY---\n",
      "---DECISION: QUERY CORRECT; SEND TO GENERATE ANSWER FROM SQL---\n",
      "---GENERATING ANSWER FROM QUERY---\n"
     ]
    },
    {
     "data": {
      "text/plain": [
       "'Your total spending in May was $550.'"
      ]
     },
     "execution_count": 30,
     "metadata": {},
     "output_type": "execute_result"
    }
   ],
   "source": [
    "inputs = {\"question\": \"Whats my total spending in the month of May?\"}\n",
    "answer = app.invoke(inputs)\n",
    "answer[\"generation\"]"
   ]
  },
  {
   "cell_type": "code",
   "execution_count": null,
   "metadata": {},
   "outputs": [],
   "source": []
  }
 ],
 "metadata": {
  "kernelspec": {
   "display_name": ".venv",
   "language": "python",
   "name": "python3"
  },
  "language_info": {
   "codemirror_mode": {
    "name": "ipython",
    "version": 3
   },
   "file_extension": ".py",
   "mimetype": "text/x-python",
   "name": "python",
   "nbconvert_exporter": "python",
   "pygments_lexer": "ipython3",
   "version": "3.11.0"
  }
 },
 "nbformat": 4,
 "nbformat_minor": 2
}
