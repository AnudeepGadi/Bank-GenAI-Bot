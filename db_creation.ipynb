{
  "cells": [
    {
      "cell_type": "code",
      "execution_count": 15,
      "metadata": {},
      "outputs": [
        {
          "name": "stdout",
          "output_type": "stream",
          "text": [
            "Requirement already satisfied: pandas in c:\\users\\agadi\\documents\\a\\pythonprojects\\cricket-bot\\.venv\\lib\\site-packages (2.2.2)\n",
            "Requirement already satisfied: numpy>=1.23.2 in c:\\users\\agadi\\documents\\a\\pythonprojects\\cricket-bot\\.venv\\lib\\site-packages (from pandas) (1.26.4)\n",
            "Requirement already satisfied: python-dateutil>=2.8.2 in c:\\users\\agadi\\documents\\a\\pythonprojects\\cricket-bot\\.venv\\lib\\site-packages (from pandas) (2.9.0.post0)\n",
            "Requirement already satisfied: pytz>=2020.1 in c:\\users\\agadi\\documents\\a\\pythonprojects\\cricket-bot\\.venv\\lib\\site-packages (from pandas) (2024.1)\n",
            "Requirement already satisfied: tzdata>=2022.7 in c:\\users\\agadi\\documents\\a\\pythonprojects\\cricket-bot\\.venv\\lib\\site-packages (from pandas) (2024.1)\n",
            "Requirement already satisfied: six>=1.5 in c:\\users\\agadi\\documents\\a\\pythonprojects\\cricket-bot\\.venv\\lib\\site-packages (from python-dateutil>=2.8.2->pandas) (1.16.0)\n"
          ]
        }
      ],
      "source": [
        "!pip install pandas"
      ]
    },
    {
      "cell_type": "code",
      "execution_count": 16,
      "metadata": {
        "id": "J932nJX2gDVR"
      },
      "outputs": [],
      "source": [
        "import pandas as pd\n",
        "from io import StringIO"
      ]
    },
    {
      "cell_type": "code",
      "execution_count": 17,
      "metadata": {
        "id": "81rmmqBrh_uz"
      },
      "outputs": [],
      "source": [
        "import sqlite3\n",
        "cnx = sqlite3.connect(r'data/bank.sqlite')"
      ]
    },
    {
      "cell_type": "code",
      "execution_count": 18,
      "metadata": {
        "colab": {
          "base_uri": "https://localhost:8080/",
          "height": 206
        },
        "id": "Rr5SDUoXgMal",
        "outputId": "41dd21cd-03b2-4d51-b056-4fe3308fd90c"
      },
      "outputs": [
        {
          "data": {
            "text/html": [
              "<div>\n",
              "<style scoped>\n",
              "    .dataframe tbody tr th:only-of-type {\n",
              "        vertical-align: middle;\n",
              "    }\n",
              "\n",
              "    .dataframe tbody tr th {\n",
              "        vertical-align: top;\n",
              "    }\n",
              "\n",
              "    .dataframe thead th {\n",
              "        text-align: right;\n",
              "    }\n",
              "</style>\n",
              "<table border=\"1\" class=\"dataframe\">\n",
              "  <thead>\n",
              "    <tr style=\"text-align: right;\">\n",
              "      <th></th>\n",
              "      <th>TransactionID</th>\n",
              "      <th>Date</th>\n",
              "      <th>AccountNumber</th>\n",
              "      <th>TransactionType</th>\n",
              "      <th>Amount</th>\n",
              "      <th>Currency</th>\n",
              "      <th>Recepient</th>\n",
              "    </tr>\n",
              "  </thead>\n",
              "  <tbody>\n",
              "    <tr>\n",
              "      <th>0</th>\n",
              "      <td>1</td>\n",
              "      <td>2024-04-20</td>\n",
              "      <td>1234567890</td>\n",
              "      <td>Transfer</td>\n",
              "      <td>250.0</td>\n",
              "      <td>USD</td>\n",
              "      <td>Amazon</td>\n",
              "    </tr>\n",
              "    <tr>\n",
              "      <th>1</th>\n",
              "      <td>2</td>\n",
              "      <td>2024-04-22</td>\n",
              "      <td>1234567891</td>\n",
              "      <td>Withdrawal</td>\n",
              "      <td>100.0</td>\n",
              "      <td>USD</td>\n",
              "      <td>Self</td>\n",
              "    </tr>\n",
              "    <tr>\n",
              "      <th>2</th>\n",
              "      <td>3</td>\n",
              "      <td>2024-04-25</td>\n",
              "      <td>1234567892</td>\n",
              "      <td>Transfer</td>\n",
              "      <td>400.0</td>\n",
              "      <td>USD</td>\n",
              "      <td>Starbucks</td>\n",
              "    </tr>\n",
              "    <tr>\n",
              "      <th>3</th>\n",
              "      <td>4</td>\n",
              "      <td>2024-05-01</td>\n",
              "      <td>1234567890</td>\n",
              "      <td>Withdrawal</td>\n",
              "      <td>150.0</td>\n",
              "      <td>USD</td>\n",
              "      <td>Self</td>\n",
              "    </tr>\n",
              "    <tr>\n",
              "      <th>4</th>\n",
              "      <td>5</td>\n",
              "      <td>2024-05-03</td>\n",
              "      <td>1234567891</td>\n",
              "      <td>Transfer</td>\n",
              "      <td>500.0</td>\n",
              "      <td>USD</td>\n",
              "      <td>Uber</td>\n",
              "    </tr>\n",
              "  </tbody>\n",
              "</table>\n",
              "</div>"
            ],
            "text/plain": [
              "   TransactionID        Date  AccountNumber TransactionType  Amount Currency  \\\n",
              "0              1  2024-04-20     1234567890        Transfer   250.0      USD   \n",
              "1              2  2024-04-22     1234567891      Withdrawal   100.0      USD   \n",
              "2              3  2024-04-25     1234567892        Transfer   400.0      USD   \n",
              "3              4  2024-05-01     1234567890      Withdrawal   150.0      USD   \n",
              "4              5  2024-05-03     1234567891        Transfer   500.0      USD   \n",
              "\n",
              "   Recepient  \n",
              "0     Amazon  \n",
              "1       Self  \n",
              "2  Starbucks  \n",
              "3       Self  \n",
              "4       Uber  "
            ]
          },
          "execution_count": 18,
          "metadata": {},
          "output_type": "execute_result"
        }
      ],
      "source": [
        "transactions = StringIO(\"\"\"\n",
        "TransactionID,Date,AccountNumber,TransactionType,Amount,Currency,Recepient\n",
        "1,2024-04-20,1234567890,Transfer,250.00,USD,Amazon\n",
        "2,2024-04-22,1234567891,Withdrawal,100.00,USD,Self\n",
        "3,2024-04-25,1234567892,Transfer,400.00,USD,Starbucks\n",
        "4,2024-05-01,1234567890,Withdrawal,150.00,USD,Self\n",
        "5,2024-05-03,1234567891,Transfer,500.00,USD,Uber\n",
        "6,2024-05-10,1234567892,Withdrawal,200.00,USD,Self\n",
        "7,2024-05-15,1234567890,Transfer,700.00,USD,Amazon\n",
        "8,2024-05-20,1234567891,Withdrawal,300.00,USD,Self\n",
        "9,2024-05-25,1234567892,Transfer,350.00,USD,Starbucks\n",
        "10,2024-06-01,1234567890,Withdrawal,400.00,USD,Self\n",
        "11,2024-06-05,1234567891,Transfer,450.00,USD,Amazon\n",
        "12,2024-06-10,1234567892,Withdrawal,250.00,USD,Self\n",
        "13,2024-06-15,1234567890,Transfer,600.00,USD,Rent\n",
        "14,2024-06-20,1234567891,Withdrawal,350.00,USD,Self\n",
        "15,2024-06-25,1234567892,Transfer,900.00,USD,Starbucks\n",
        "16,2024-07-01,1234567890,Withdrawal,500.00,USD,Self\n",
        "17,2024-07-05,1234567891,Transfer,550.00,USD,Amazon\n",
        "18,2024-07-10,1234567892,Withdrawal,600.00,USD,Self\n",
        "19,2024-07-15,1234567890,Transfer,750.00,USD,Uber\n",
        "20,2024-07-20,1234567891,Withdrawal,700.00,USD,Self\n",
        "\"\"\")\n",
        "df = pd.read_csv(transactions)\n",
        "df.head()"
      ]
    },
    {
      "cell_type": "code",
      "execution_count": 19,
      "metadata": {
        "colab": {
          "base_uri": "https://localhost:8080/"
        },
        "id": "JIQl7RZnhZqM",
        "outputId": "c68ece19-0b7f-458f-b776-22769d192f86"
      },
      "outputs": [
        {
          "data": {
            "text/plain": [
              "20"
            ]
          },
          "execution_count": 19,
          "metadata": {},
          "output_type": "execute_result"
        }
      ],
      "source": [
        "df.to_sql(name='transactions', con=cnx)"
      ]
    },
    {
      "cell_type": "code",
      "execution_count": 20,
      "metadata": {
        "colab": {
          "base_uri": "https://localhost:8080/",
          "height": 143
        },
        "id": "bRrq796phiuy",
        "outputId": "9f62a2d5-1ad3-4769-cf91-e172657a2c9e"
      },
      "outputs": [
        {
          "data": {
            "text/html": [
              "<div>\n",
              "<style scoped>\n",
              "    .dataframe tbody tr th:only-of-type {\n",
              "        vertical-align: middle;\n",
              "    }\n",
              "\n",
              "    .dataframe tbody tr th {\n",
              "        vertical-align: top;\n",
              "    }\n",
              "\n",
              "    .dataframe thead th {\n",
              "        text-align: right;\n",
              "    }\n",
              "</style>\n",
              "<table border=\"1\" class=\"dataframe\">\n",
              "  <thead>\n",
              "    <tr style=\"text-align: right;\">\n",
              "      <th></th>\n",
              "      <th>AccountID</th>\n",
              "      <th>AccountNumber</th>\n",
              "      <th>AccountHolderName</th>\n",
              "      <th>AccountType</th>\n",
              "      <th>OpeningDate</th>\n",
              "      <th>Balance</th>\n",
              "      <th>Currency</th>\n",
              "    </tr>\n",
              "  </thead>\n",
              "  <tbody>\n",
              "    <tr>\n",
              "      <th>0</th>\n",
              "      <td>1</td>\n",
              "      <td>1234567890</td>\n",
              "      <td>John Doe</td>\n",
              "      <td>Checking</td>\n",
              "      <td>2022-01-15</td>\n",
              "      <td>5000.0</td>\n",
              "      <td>USD</td>\n",
              "    </tr>\n",
              "    <tr>\n",
              "      <th>1</th>\n",
              "      <td>2</td>\n",
              "      <td>1234567891</td>\n",
              "      <td>Jane Smith</td>\n",
              "      <td>Savings</td>\n",
              "      <td>2023-03-22</td>\n",
              "      <td>7500.0</td>\n",
              "      <td>USD</td>\n",
              "    </tr>\n",
              "    <tr>\n",
              "      <th>2</th>\n",
              "      <td>3</td>\n",
              "      <td>1234567892</td>\n",
              "      <td>Bob Johnson</td>\n",
              "      <td>Checking</td>\n",
              "      <td>2021-11-30</td>\n",
              "      <td>6000.0</td>\n",
              "      <td>USD</td>\n",
              "    </tr>\n",
              "  </tbody>\n",
              "</table>\n",
              "</div>"
            ],
            "text/plain": [
              "   AccountID  AccountNumber AccountHolderName AccountType OpeningDate  \\\n",
              "0          1     1234567890          John Doe    Checking  2022-01-15   \n",
              "1          2     1234567891        Jane Smith     Savings  2023-03-22   \n",
              "2          3     1234567892       Bob Johnson    Checking  2021-11-30   \n",
              "\n",
              "   Balance Currency  \n",
              "0   5000.0      USD  \n",
              "1   7500.0      USD  \n",
              "2   6000.0      USD  "
            ]
          },
          "execution_count": 20,
          "metadata": {},
          "output_type": "execute_result"
        }
      ],
      "source": [
        "accounts = StringIO(\"\"\"\n",
        "AccountID,AccountNumber,AccountHolderName,AccountType,OpeningDate,Balance,Currency\n",
        "1,1234567890,John Doe,Checking,2022-01-15,5000.00,USD\n",
        "2,1234567891,Jane Smith,Savings,2023-03-22,7500.00,USD\n",
        "3,1234567892,Bob Johnson,Checking,2021-11-30,6000.00,USD\n",
        "\"\"\")\n",
        "df1 = pd.read_csv(accounts)\n",
        "df1.head()"
      ]
    },
    {
      "cell_type": "code",
      "execution_count": 21,
      "metadata": {
        "colab": {
          "base_uri": "https://localhost:8080/"
        },
        "id": "BTJeO93DiLUq",
        "outputId": "b85fc5c3-19b7-4efd-ce97-9afbd96908db"
      },
      "outputs": [
        {
          "data": {
            "text/plain": [
              "3"
            ]
          },
          "execution_count": 21,
          "metadata": {},
          "output_type": "execute_result"
        },
        {
          "ename": "",
          "evalue": "",
          "output_type": "error",
          "traceback": [
            "\u001b[1;31mThe Kernel crashed while executing code in the current cell or a previous cell. \n",
            "\u001b[1;31mPlease review the code in the cell(s) to identify a possible cause of the failure. \n",
            "\u001b[1;31mClick <a href='https://aka.ms/vscodeJupyterKernelCrash'>here</a> for more info. \n",
            "\u001b[1;31mView Jupyter <a href='command:jupyter.viewOutput'>log</a> for further details."
          ]
        }
      ],
      "source": [
        "df1.to_sql(name='accounts', con=cnx)"
      ]
    }
  ],
  "metadata": {
    "colab": {
      "provenance": []
    },
    "kernelspec": {
      "display_name": "Python 3",
      "name": "python3"
    },
    "language_info": {
      "codemirror_mode": {
        "name": "ipython",
        "version": 3
      },
      "file_extension": ".py",
      "mimetype": "text/x-python",
      "name": "python",
      "nbconvert_exporter": "python",
      "pygments_lexer": "ipython3",
      "version": "3.11.0"
    }
  },
  "nbformat": 4,
  "nbformat_minor": 0
}
